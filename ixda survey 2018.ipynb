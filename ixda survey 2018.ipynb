{
 "cells": [
  {
   "cell_type": "code",
   "execution_count": 69,
   "metadata": {
    "collapsed": true
   },
   "outputs": [],
   "source": [
    "# Imports\n",
    "import numpy as np\n",
    "import pandas as pd\n",
    "from pandas import Series, DataFrame\n",
    "\n",
    "import scipy as sp\n",
    "import scipy.stats\n",
    "\n",
    "import matplotlib.pyplot as plt\n",
    "%matplotlib inline "
   ]
  },
  {
   "cell_type": "code",
   "execution_count": 70,
   "metadata": {
    "collapsed": true
   },
   "outputs": [],
   "source": [
    "# Get data\n",
    "df = pd.read_csv(\"data.csv\")"
   ]
  },
  {
   "cell_type": "code",
   "execution_count": 71,
   "metadata": {
    "collapsed": true
   },
   "outputs": [],
   "source": [
    "# Display data helper function\n",
    "def display_data(data):\n",
    "    with pd.option_context('display.max_rows', None, 'display.max_columns', None):\n",
    "        display(data)"
   ]
  },
  {
   "cell_type": "code",
   "execution_count": 72,
   "metadata": {
    "collapsed": true
   },
   "outputs": [],
   "source": [
    "# Cleanup - Mark questions as 'QX' for easier future reference\n",
    "columns = df.columns.tolist()\n",
    "answer = 0\n",
    "question = 0\n",
    "\n",
    "for i in range(1, len(columns)):\n",
    "    # Grid questions have option in '[]'\n",
    "    if (columns[i].endswith(']')):\n",
    "        # Check if this is first answer, if so this is a new question\n",
    "        if (answer == 0):\n",
    "            question = question + 1\n",
    "        answer = answer + 1\n",
    "        columns[i] = 'Q' + str(question) + '-' + str(answer)\n",
    "    else:\n",
    "        question = question + 1\n",
    "        answer = 0    \n",
    "        columns[i] = 'Q' + str(question)\n",
    "  \n",
    "df.columns = columns\n",
    "# helper: display all columns for just the first row `display_data(df[1:2])`"
   ]
  },
  {
   "cell_type": "code",
   "execution_count": 73,
   "metadata": {},
   "outputs": [
    {
     "name": "stdout",
     "output_type": "stream",
     "text": [
      "Survey completed by  181  people, we removed  -14  , and now we are left with 167  people\n"
     ]
    }
   ],
   "source": [
    "# Cleanup - Remove positions that are not design specific\n",
    "# helper: list all distinct positions via `set(df['Q2'])`\n",
    "whitelisted_positions = ['Amaterski dizajner','CX dizajner','Dizajner interakcija','Dizajner vizualnih komunikacija','Grafički dizajner','Interactive Art Director','Marketing/Brand dizajner','Miks - Web dizajner, Dizajner interakcija, Grafički dizajner, Marketing/brand dizajner, Dizajner vizualnih komunikacijam Copywriter, UX/UI dizajner','Multimedijalni dizajner','Produkt dizajner (digitalni proizvodi)','Researcher','Student / UI dizajner / Produkt dizajner (digitalni proizvodi)','UI dizajner','UI/UX/grafički dizajner/dizajner vizualnih komunikacija','UX dizajner','UX/UI dizajner','Web dizajner','Web dizajner, graficki dizajner, marketing/branding dizajner, ux/ui dizajner']\n",
    "rows_before_cleanup = len(df.index)\n",
    "df = df[df['Q2'].isin(whitelisted_positions)]\n",
    "rows_after_cleanup = len(df.index)\n",
    "\n",
    "print('Survey completed by ', rows_before_cleanup, ' people, we removed ', (rows_before_cleanup - rows_after_cleanup), ' inputs, and now we are left with', rows_after_cleanup, ' people')"
   ]
  },
  {
   "cell_type": "code",
   "execution_count": 74,
   "metadata": {
    "collapsed": true
   },
   "outputs": [],
   "source": [
    "# Helper columns (I for Index)\n",
    "salary_descriptive_keys = {'Trenutno nisam zaposlen':0, 'Manje od 2800kn':1, '2800kn - 4900kn':2, '5000kn - 6900kn':3, '7000kn - 8900kn':4, '9000kn - 9900kn':5, '10000kn - 12900kn':6, '13000kn - 15900kn':7, '16000kn - 20000kn':8, '20000kn i više':9, 'Nisam zaposlen ali freelanceam':10}\n",
    "sorted_salary_descriptive = sorted(salary_descriptive_keys, key=salary_descriptive_keys.get)\n",
    "df['Q21(I)'] = df['Q21'].replace(salary_descriptive_keys)"
   ]
  },
  {
   "cell_type": "markdown",
   "metadata": {},
   "source": [
    "# Segmentation"
   ]
  },
  {
   "cell_type": "markdown",
   "metadata": {},
   "source": [
    "## By Sex"
   ]
  },
  {
   "cell_type": "code",
   "execution_count": 75,
   "metadata": {},
   "outputs": [
    {
     "name": "stdout",
     "output_type": "stream",
     "text": [
      "Survey completed by  60  females,  105  males, and  2  undefined\n"
     ]
    }
   ],
   "source": [
    "female = df[df['Q3']=='Ženski']\n",
    "male = df[df['Q3']=='Muški']\n",
    "\n",
    "num_female = len(female)\n",
    "num_male = len(male)\n",
    "num_undefined = len(df) - num_female - num_male\n",
    "\n",
    "print('Survey completed by ', num_female,' females, ', num_male, ' males, and ', num_undefined, ' undefined')"
   ]
  },
  {
   "cell_type": "code",
   "execution_count": 76,
   "metadata": {},
   "outputs": [
    {
     "data": {
      "text/plain": [
       "Q21(I)  Q21                             Q3    \n",
       "0       Trenutno nisam zaposlen         Ženski     1\n",
       "2       2800kn - 4900kn                 Muški      8\n",
       "                                        Ženski     8\n",
       "3       5000kn - 6900kn                 Muški     20\n",
       "                                        Ženski    18\n",
       "4       7000kn - 8900kn                 Muški     23\n",
       "                                        Ženski    12\n",
       "5       9000kn - 9900kn                 Muški      4\n",
       "                                        Ženski     5\n",
       "6       10000kn - 12900kn               Muški     16\n",
       "                                        Ženski     5\n",
       "7       13000kn - 15900kn               Muški      8\n",
       "                                        Ženski     3\n",
       "8       16000kn - 20000kn               Muški      7\n",
       "9       20000kn i više                  Muški     13\n",
       "                                        Ženski     2\n",
       "10      Nisam zaposlen ali freelanceam  Muški      6\n",
       "                                        Ženski     6\n",
       "Name: Q1, dtype: int64"
      ]
     },
     "metadata": {},
     "output_type": "display_data"
    },
    {
     "data": {
      "text/plain": [
       "<matplotlib.axes._subplots.AxesSubplot at 0x1a12d9a048>"
      ]
     },
     "execution_count": 76,
     "metadata": {},
     "output_type": "execute_result"
    },
    {
     "data": {
      "image/png": "[encoded data removed]",
      "text/plain": [
       "<matplotlib.figure.Figure at 0x1a1347bb38>"
      ]
     },
     "metadata": {},
     "output_type": "display_data"
    }
   ],
   "source": [
    "# Salary\n",
    "# General\n",
    "salary_general = df.groupby(['Q21(I)', 'Q21']).count().iloc[:,1]\n",
    "salary_general_with_sex = df[df.Q3 != \"N/A OR OTHER\"].groupby(['Q21(I)', 'Q21', 'Q3']).count().iloc[:,1]\n",
    "display(salary_general_with_sex)\n",
    "salary_general.plot(kind='bar', label='Q21')"
   ]
  },
  {
   "cell_type": "code",
   "execution_count": 77,
   "metadata": {
    "collapsed": true
   },
   "outputs": [],
   "source": [
    "# By Sex\n",
    "salary_female = female.groupby(['Q21(I)']).count().iloc[:,1].reset_index(name='Q3(count)')\n",
    "salary_male = male.groupby(['Q21(I)']).count().iloc[:,1].reset_index(name='Q3(count)')\n",
    "\n",
    "# @TODO: Remove index 10 (freelancer) as it doesn't carry any value "
   ]
  },
  {
   "cell_type": "code",
   "execution_count": 78,
   "metadata": {},
   "outputs": [
    {
     "data": {
      "text/html": [
       "<div>\n",
       "<style>\n",
       "    .dataframe thead tr:only-child th {\n",
       "        text-align: right;\n",
       "    }\n",
       "\n",
       "    .dataframe thead th {\n",
       "        text-align: left;\n",
       "    }\n",
       "\n",
       "    .dataframe tbody tr th {\n",
       "        vertical-align: top;\n",
       "    }\n",
       "</style>\n",
       "<table border=\"1\" class=\"dataframe\">\n",
       "  <thead>\n",
       "    <tr style=\"text-align: right;\">\n",
       "      <th></th>\n",
       "      <th>Q21(I)</th>\n",
       "      <th>Q3(count)_female</th>\n",
       "      <th>Q3(rel)_female</th>\n",
       "      <th>Q3(count)_male</th>\n",
       "      <th>Q3(rel)_male</th>\n",
       "    </tr>\n",
       "  </thead>\n",
       "  <tbody>\n",
       "    <tr>\n",
       "      <th>0</th>\n",
       "      <td>0</td>\n",
       "      <td>1.0</td>\n",
       "      <td>1.666667</td>\n",
       "      <td>0.0</td>\n",
       "      <td>0.000000</td>\n",
       "    </tr>\n",
       "    <tr>\n",
       "      <th>1</th>\n",
       "      <td>2</td>\n",
       "      <td>8.0</td>\n",
       "      <td>13.333333</td>\n",
       "      <td>8.0</td>\n",
       "      <td>7.619048</td>\n",
       "    </tr>\n",
       "    <tr>\n",
       "      <th>2</th>\n",
       "      <td>3</td>\n",
       "      <td>18.0</td>\n",
       "      <td>30.000000</td>\n",
       "      <td>20.0</td>\n",
       "      <td>19.047619</td>\n",
       "    </tr>\n",
       "    <tr>\n",
       "      <th>3</th>\n",
       "      <td>4</td>\n",
       "      <td>12.0</td>\n",
       "      <td>20.000000</td>\n",
       "      <td>23.0</td>\n",
       "      <td>21.904762</td>\n",
       "    </tr>\n",
       "    <tr>\n",
       "      <th>4</th>\n",
       "      <td>5</td>\n",
       "      <td>5.0</td>\n",
       "      <td>8.333333</td>\n",
       "      <td>4.0</td>\n",
       "      <td>3.809524</td>\n",
       "    </tr>\n",
       "    <tr>\n",
       "      <th>5</th>\n",
       "      <td>6</td>\n",
       "      <td>5.0</td>\n",
       "      <td>8.333333</td>\n",
       "      <td>16.0</td>\n",
       "      <td>15.238095</td>\n",
       "    </tr>\n",
       "    <tr>\n",
       "      <th>6</th>\n",
       "      <td>7</td>\n",
       "      <td>3.0</td>\n",
       "      <td>5.000000</td>\n",
       "      <td>8.0</td>\n",
       "      <td>7.619048</td>\n",
       "    </tr>\n",
       "    <tr>\n",
       "      <th>9</th>\n",
       "      <td>8</td>\n",
       "      <td>0.0</td>\n",
       "      <td>0.000000</td>\n",
       "      <td>7.0</td>\n",
       "      <td>6.666667</td>\n",
       "    </tr>\n",
       "    <tr>\n",
       "      <th>7</th>\n",
       "      <td>9</td>\n",
       "      <td>2.0</td>\n",
       "      <td>3.333333</td>\n",
       "      <td>13.0</td>\n",
       "      <td>12.380952</td>\n",
       "    </tr>\n",
       "    <tr>\n",
       "      <th>8</th>\n",
       "      <td>10</td>\n",
       "      <td>6.0</td>\n",
       "      <td>10.000000</td>\n",
       "      <td>6.0</td>\n",
       "      <td>5.714286</td>\n",
       "    </tr>\n",
       "  </tbody>\n",
       "</table>\n",
       "</div>"
      ],
      "text/plain": [
       "   Q21(I)  Q3(count)_female  Q3(rel)_female  Q3(count)_male  Q3(rel)_male\n",
       "0       0               1.0        1.666667             0.0      0.000000\n",
       "1       2               8.0       13.333333             8.0      7.619048\n",
       "2       3              18.0       30.000000            20.0     19.047619\n",
       "3       4              12.0       20.000000            23.0     21.904762\n",
       "4       5               5.0        8.333333             4.0      3.809524\n",
       "5       6               5.0        8.333333            16.0     15.238095\n",
       "6       7               3.0        5.000000             8.0      7.619048\n",
       "9       8               0.0        0.000000             7.0      6.666667\n",
       "7       9               2.0        3.333333            13.0     12.380952\n",
       "8      10               6.0       10.000000             6.0      5.714286"
      ]
     },
     "metadata": {},
     "output_type": "display_data"
    }
   ],
   "source": [
    "salary_female_df = DataFrame(salary_female)\n",
    "salary_male_df = DataFrame(salary_male)\n",
    "\n",
    "salary_female_df['Q3(rel)'] = (salary_female_df['Q3(count)'] / salary_female_df['Q3(count)'].sum()) * 100\n",
    "salary_male_df['Q3(rel)'] = (salary_male_df['Q3(count)'] / salary_male_df['Q3(count)'].sum()) * 100\n",
    "\n",
    "salary_sex_compared_df = pd.merge(salary_female_df, salary_male_df, on='Q21(I)', how='outer', suffixes=('_female', '_male'))\n",
    "salary_sex_compared_df.fillna(0, inplace=True)\n",
    "salary_sex_compared_df.sort_values(by=['Q21(I)'], inplace=True)\n",
    "salary_sex_compared_df.style.format({'Q3(rel)_female':'{:,.2f}%'.format})\n",
    "\n",
    "display(salary_sex_compared_df)"
   ]
  },
  {
   "cell_type": "code",
   "execution_count": 79,
   "metadata": {},
   "outputs": [
    {
     "data": {
      "text/html": [
       "<div>\n",
       "<style>\n",
       "    .dataframe thead tr:only-child th {\n",
       "        text-align: right;\n",
       "    }\n",
       "\n",
       "    .dataframe thead th {\n",
       "        text-align: left;\n",
       "    }\n",
       "\n",
       "    .dataframe tbody tr th {\n",
       "        vertical-align: top;\n",
       "    }\n",
       "</style>\n",
       "<table border=\"1\" class=\"dataframe\">\n",
       "  <thead>\n",
       "    <tr style=\"text-align: right;\">\n",
       "      <th></th>\n",
       "      <th>Q21(I)</th>\n",
       "      <th>Q3(rel)_female</th>\n",
       "      <th>Q3(rel)_male</th>\n",
       "    </tr>\n",
       "  </thead>\n",
       "  <tbody>\n",
       "    <tr>\n",
       "      <th>0</th>\n",
       "      <td>0</td>\n",
       "      <td>1.666667</td>\n",
       "      <td>0.000000</td>\n",
       "    </tr>\n",
       "    <tr>\n",
       "      <th>1</th>\n",
       "      <td>2</td>\n",
       "      <td>13.333333</td>\n",
       "      <td>7.619048</td>\n",
       "    </tr>\n",
       "    <tr>\n",
       "      <th>2</th>\n",
       "      <td>3</td>\n",
       "      <td>30.000000</td>\n",
       "      <td>19.047619</td>\n",
       "    </tr>\n",
       "    <tr>\n",
       "      <th>3</th>\n",
       "      <td>4</td>\n",
       "      <td>20.000000</td>\n",
       "      <td>21.904762</td>\n",
       "    </tr>\n",
       "    <tr>\n",
       "      <th>4</th>\n",
       "      <td>5</td>\n",
       "      <td>8.333333</td>\n",
       "      <td>3.809524</td>\n",
       "    </tr>\n",
       "    <tr>\n",
       "      <th>5</th>\n",
       "      <td>6</td>\n",
       "      <td>8.333333</td>\n",
       "      <td>15.238095</td>\n",
       "    </tr>\n",
       "    <tr>\n",
       "      <th>6</th>\n",
       "      <td>7</td>\n",
       "      <td>5.000000</td>\n",
       "      <td>7.619048</td>\n",
       "    </tr>\n",
       "    <tr>\n",
       "      <th>9</th>\n",
       "      <td>8</td>\n",
       "      <td>0.000000</td>\n",
       "      <td>6.666667</td>\n",
       "    </tr>\n",
       "    <tr>\n",
       "      <th>7</th>\n",
       "      <td>9</td>\n",
       "      <td>3.333333</td>\n",
       "      <td>12.380952</td>\n",
       "    </tr>\n",
       "    <tr>\n",
       "      <th>8</th>\n",
       "      <td>10</td>\n",
       "      <td>10.000000</td>\n",
       "      <td>5.714286</td>\n",
       "    </tr>\n",
       "  </tbody>\n",
       "</table>\n",
       "</div>"
      ],
      "text/plain": [
       "   Q21(I)  Q3(rel)_female  Q3(rel)_male\n",
       "0       0        1.666667      0.000000\n",
       "1       2       13.333333      7.619048\n",
       "2       3       30.000000     19.047619\n",
       "3       4       20.000000     21.904762\n",
       "4       5        8.333333      3.809524\n",
       "5       6        8.333333     15.238095\n",
       "6       7        5.000000      7.619048\n",
       "9       8        0.000000      6.666667\n",
       "7       9        3.333333     12.380952\n",
       "8      10       10.000000      5.714286"
      ]
     },
     "metadata": {},
     "output_type": "display_data"
    },
    {
     "data": {
      "text/plain": [
       "<matplotlib.axes._subplots.AxesSubplot at 0x1a13a022e8>"
      ]
     },
     "execution_count": 79,
     "metadata": {},
     "output_type": "execute_result"
    },
    {
     "data": {
      "image/png": "[encoded data removed]",
      "text/plain": [
       "<matplotlib.figure.Figure at 0x1a1380a748>"
      ]
     },
     "metadata": {},
     "output_type": "display_data"
    }
   ],
   "source": [
    "# Compare relative (size per bucket) \n",
    "display(salary_sex_compared_df[['Q21(I)', 'Q3(rel)_female', 'Q3(rel)_male']])\n",
    "salary_sex_compared_df[['Q3(rel)_male', 'Q3(rel)_female']].plot(kind='bar', colormap='cool')"
   ]
  },
  {
   "cell_type": "code",
   "execution_count": 80,
   "metadata": {},
   "outputs": [
    {
     "data": {
      "text/plain": [
       "RanksumsResult(statistic=-2.4321521980337617, pvalue=0.015009398838606273)"
      ]
     },
     "execution_count": 80,
     "metadata": {},
     "output_type": "execute_result"
    }
   ],
   "source": [
    "# Check statistical significance\n",
    "sp.stats.ranksums(female['Q21(I)'], male['Q21(I)'])"
   ]
  },
  {
   "cell_type": "markdown",
   "metadata": {
    "collapsed": true
   },
   "source": [
    "## By Region"
   ]
  },
  {
   "cell_type": "code",
   "execution_count": 81,
   "metadata": {},
   "outputs": [
    {
     "data": {
      "text/html": [
       "<div>\n",
       "<style>\n",
       "    .dataframe thead tr:only-child th {\n",
       "        text-align: right;\n",
       "    }\n",
       "\n",
       "    .dataframe thead th {\n",
       "        text-align: left;\n",
       "    }\n",
       "\n",
       "    .dataframe tbody tr th {\n",
       "        vertical-align: top;\n",
       "    }\n",
       "</style>\n",
       "<table border=\"1\" class=\"dataframe\">\n",
       "  <thead>\n",
       "    <tr style=\"text-align: right;\">\n",
       "      <th></th>\n",
       "      <th>Q6</th>\n",
       "      <th>Q6(count)</th>\n",
       "    </tr>\n",
       "  </thead>\n",
       "  <tbody>\n",
       "    <tr>\n",
       "      <th>4</th>\n",
       "      <td>GRAD ZAGREB</td>\n",
       "      <td>91</td>\n",
       "    </tr>\n",
       "    <tr>\n",
       "      <th>10</th>\n",
       "      <td>OSJEČKO-BARANJSKA</td>\n",
       "      <td>13</td>\n",
       "    </tr>\n",
       "    <tr>\n",
       "      <th>12</th>\n",
       "      <td>SPLITSKO-DALMATINSKA</td>\n",
       "      <td>8</td>\n",
       "    </tr>\n",
       "    <tr>\n",
       "      <th>18</th>\n",
       "      <td>ZAGREBAČKA</td>\n",
       "      <td>25</td>\n",
       "    </tr>\n",
       "  </tbody>\n",
       "</table>\n",
       "</div>"
      ],
      "text/plain": [
       "                      Q6  Q6(count)\n",
       "4            GRAD ZAGREB         91\n",
       "10     OSJEČKO-BARANJSKA         13\n",
       "12  SPLITSKO-DALMATINSKA          8\n",
       "18            ZAGREBAČKA         25"
      ]
     },
     "execution_count": 81,
     "metadata": {},
     "output_type": "execute_result"
    }
   ],
   "source": [
    "# lets distribution by region\n",
    "relevant_regions_count = DataFrame(df.groupby('Q6').count().iloc[:,1].reset_index(name='Q6(count)'))\n",
    "\n",
    "# if we remove entries with less than 5 answers\n",
    "relevant_regions_count.loc[relevant_regions_count['Q6(count)'] >= 5]"
   ]
  },
  {
   "cell_type": "markdown",
   "metadata": {},
   "source": [
    "### Grad Zagreb"
   ]
  },
  {
   "cell_type": "code",
   "execution_count": 82,
   "metadata": {
    "collapsed": true
   },
   "outputs": [],
   "source": [
    "def plot_region(region):\n",
    "    # let check distribution for region by salary\n",
    "    region_salary_data = df[df['Q6'] == region].groupby(['Q21(I)', 'Q21']).count().iloc[:,1].reset_index(name='Q21(count)')\n",
    "    display(region_salary_data)\n",
    "\n",
    "    # plot\n",
    "    max_count = max(region_salary_data['Q21(count)']) + 1\n",
    "    region_salary_data.set_index('Q21')['Q21(count)'].plot(kind='bar', yticks=np.arange(0, max_count, 2), label='Q21')"
   ]
  },
  {
   "cell_type": "code",
   "execution_count": 83,
   "metadata": {},
   "outputs": [
    {
     "data": {
      "text/html": [
       "<div>\n",
       "<style>\n",
       "    .dataframe thead tr:only-child th {\n",
       "        text-align: right;\n",
       "    }\n",
       "\n",
       "    .dataframe thead th {\n",
       "        text-align: left;\n",
       "    }\n",
       "\n",
       "    .dataframe tbody tr th {\n",
       "        vertical-align: top;\n",
       "    }\n",
       "</style>\n",
       "<table border=\"1\" class=\"dataframe\">\n",
       "  <thead>\n",
       "    <tr style=\"text-align: right;\">\n",
       "      <th></th>\n",
       "      <th>Q21(I)</th>\n",
       "      <th>Q21</th>\n",
       "      <th>Q21(count)</th>\n",
       "    </tr>\n",
       "  </thead>\n",
       "  <tbody>\n",
       "    <tr>\n",
       "      <th>0</th>\n",
       "      <td>1</td>\n",
       "      <td>Manje od 2800kn</td>\n",
       "      <td>1</td>\n",
       "    </tr>\n",
       "    <tr>\n",
       "      <th>1</th>\n",
       "      <td>2</td>\n",
       "      <td>2800kn - 4900kn</td>\n",
       "      <td>8</td>\n",
       "    </tr>\n",
       "    <tr>\n",
       "      <th>2</th>\n",
       "      <td>3</td>\n",
       "      <td>5000kn - 6900kn</td>\n",
       "      <td>17</td>\n",
       "    </tr>\n",
       "    <tr>\n",
       "      <th>3</th>\n",
       "      <td>4</td>\n",
       "      <td>7000kn - 8900kn</td>\n",
       "      <td>19</td>\n",
       "    </tr>\n",
       "    <tr>\n",
       "      <th>4</th>\n",
       "      <td>5</td>\n",
       "      <td>9000kn - 9900kn</td>\n",
       "      <td>5</td>\n",
       "    </tr>\n",
       "    <tr>\n",
       "      <th>5</th>\n",
       "      <td>6</td>\n",
       "      <td>10000kn - 12900kn</td>\n",
       "      <td>17</td>\n",
       "    </tr>\n",
       "    <tr>\n",
       "      <th>6</th>\n",
       "      <td>7</td>\n",
       "      <td>13000kn - 15900kn</td>\n",
       "      <td>9</td>\n",
       "    </tr>\n",
       "    <tr>\n",
       "      <th>7</th>\n",
       "      <td>8</td>\n",
       "      <td>16000kn - 20000kn</td>\n",
       "      <td>3</td>\n",
       "    </tr>\n",
       "    <tr>\n",
       "      <th>8</th>\n",
       "      <td>9</td>\n",
       "      <td>20000kn i više</td>\n",
       "      <td>7</td>\n",
       "    </tr>\n",
       "    <tr>\n",
       "      <th>9</th>\n",
       "      <td>10</td>\n",
       "      <td>Nisam zaposlen ali freelanceam</td>\n",
       "      <td>5</td>\n",
       "    </tr>\n",
       "  </tbody>\n",
       "</table>\n",
       "</div>"
      ],
      "text/plain": [
       "   Q21(I)                             Q21  Q21(count)\n",
       "0       1                 Manje od 2800kn           1\n",
       "1       2                 2800kn - 4900kn           8\n",
       "2       3                 5000kn - 6900kn          17\n",
       "3       4                 7000kn - 8900kn          19\n",
       "4       5                 9000kn - 9900kn           5\n",
       "5       6               10000kn - 12900kn          17\n",
       "6       7               13000kn - 15900kn           9\n",
       "7       8               16000kn - 20000kn           3\n",
       "8       9                  20000kn i više           7\n",
       "9      10  Nisam zaposlen ali freelanceam           5"
      ]
     },
     "metadata": {},
     "output_type": "display_data"
    },
    {
     "data": {
      "image/png": "[encoded data removed]",
      "text/plain": [
       "<matplotlib.figure.Figure at 0x1a1354d748>"
      ]
     },
     "metadata": {},
     "output_type": "display_data"
    }
   ],
   "source": [
    "plot_region('GRAD ZAGREB')"
   ]
  },
  {
   "cell_type": "markdown",
   "metadata": {
    "collapsed": true
   },
   "source": [
    "### Osječko-Baranjska"
   ]
  },
  {
   "cell_type": "code",
   "execution_count": 84,
   "metadata": {},
   "outputs": [
    {
     "data": {
      "text/html": [
       "<div>\n",
       "<style>\n",
       "    .dataframe thead tr:only-child th {\n",
       "        text-align: right;\n",
       "    }\n",
       "\n",
       "    .dataframe thead th {\n",
       "        text-align: left;\n",
       "    }\n",
       "\n",
       "    .dataframe tbody tr th {\n",
       "        vertical-align: top;\n",
       "    }\n",
       "</style>\n",
       "<table border=\"1\" class=\"dataframe\">\n",
       "  <thead>\n",
       "    <tr style=\"text-align: right;\">\n",
       "      <th></th>\n",
       "      <th>Q21(I)</th>\n",
       "      <th>Q21</th>\n",
       "      <th>Q21(count)</th>\n",
       "    </tr>\n",
       "  </thead>\n",
       "  <tbody>\n",
       "    <tr>\n",
       "      <th>0</th>\n",
       "      <td>2</td>\n",
       "      <td>2800kn - 4900kn</td>\n",
       "      <td>2</td>\n",
       "    </tr>\n",
       "    <tr>\n",
       "      <th>1</th>\n",
       "      <td>3</td>\n",
       "      <td>5000kn - 6900kn</td>\n",
       "      <td>3</td>\n",
       "    </tr>\n",
       "    <tr>\n",
       "      <th>2</th>\n",
       "      <td>4</td>\n",
       "      <td>7000kn - 8900kn</td>\n",
       "      <td>4</td>\n",
       "    </tr>\n",
       "    <tr>\n",
       "      <th>3</th>\n",
       "      <td>5</td>\n",
       "      <td>9000kn - 9900kn</td>\n",
       "      <td>1</td>\n",
       "    </tr>\n",
       "    <tr>\n",
       "      <th>4</th>\n",
       "      <td>9</td>\n",
       "      <td>20000kn i više</td>\n",
       "      <td>1</td>\n",
       "    </tr>\n",
       "    <tr>\n",
       "      <th>5</th>\n",
       "      <td>10</td>\n",
       "      <td>Nisam zaposlen ali freelanceam</td>\n",
       "      <td>2</td>\n",
       "    </tr>\n",
       "  </tbody>\n",
       "</table>\n",
       "</div>"
      ],
      "text/plain": [
       "   Q21(I)                             Q21  Q21(count)\n",
       "0       2                 2800kn - 4900kn           2\n",
       "1       3                 5000kn - 6900kn           3\n",
       "2       4                 7000kn - 8900kn           4\n",
       "3       5                 9000kn - 9900kn           1\n",
       "4       9                  20000kn i više           1\n",
       "5      10  Nisam zaposlen ali freelanceam           2"
      ]
     },
     "metadata": {},
     "output_type": "display_data"
    },
    {
     "data": {
      "image/png": "[encoded data removed]",
      "text/plain": [
       "<matplotlib.figure.Figure at 0x1a1355f2e8>"
      ]
     },
     "metadata": {},
     "output_type": "display_data"
    }
   ],
   "source": [
    "plot_region('OSJEČKO-BARANJSKA')"
   ]
  },
  {
   "cell_type": "markdown",
   "metadata": {},
   "source": [
    "### Splitsko-Dalmatinska"
   ]
  },
  {
   "cell_type": "code",
   "execution_count": 85,
   "metadata": {},
   "outputs": [
    {
     "data": {
      "text/html": [
       "<div>\n",
       "<style>\n",
       "    .dataframe thead tr:only-child th {\n",
       "        text-align: right;\n",
       "    }\n",
       "\n",
       "    .dataframe thead th {\n",
       "        text-align: left;\n",
       "    }\n",
       "\n",
       "    .dataframe tbody tr th {\n",
       "        vertical-align: top;\n",
       "    }\n",
       "</style>\n",
       "<table border=\"1\" class=\"dataframe\">\n",
       "  <thead>\n",
       "    <tr style=\"text-align: right;\">\n",
       "      <th></th>\n",
       "      <th>Q21(I)</th>\n",
       "      <th>Q21</th>\n",
       "      <th>Q21(count)</th>\n",
       "    </tr>\n",
       "  </thead>\n",
       "  <tbody>\n",
       "    <tr>\n",
       "      <th>0</th>\n",
       "      <td>2</td>\n",
       "      <td>2800kn - 4900kn</td>\n",
       "      <td>1</td>\n",
       "    </tr>\n",
       "    <tr>\n",
       "      <th>1</th>\n",
       "      <td>3</td>\n",
       "      <td>5000kn - 6900kn</td>\n",
       "      <td>1</td>\n",
       "    </tr>\n",
       "    <tr>\n",
       "      <th>2</th>\n",
       "      <td>4</td>\n",
       "      <td>7000kn - 8900kn</td>\n",
       "      <td>2</td>\n",
       "    </tr>\n",
       "    <tr>\n",
       "      <th>3</th>\n",
       "      <td>5</td>\n",
       "      <td>9000kn - 9900kn</td>\n",
       "      <td>1</td>\n",
       "    </tr>\n",
       "    <tr>\n",
       "      <th>4</th>\n",
       "      <td>6</td>\n",
       "      <td>10000kn - 12900kn</td>\n",
       "      <td>1</td>\n",
       "    </tr>\n",
       "    <tr>\n",
       "      <th>5</th>\n",
       "      <td>7</td>\n",
       "      <td>13000kn - 15900kn</td>\n",
       "      <td>1</td>\n",
       "    </tr>\n",
       "    <tr>\n",
       "      <th>6</th>\n",
       "      <td>10</td>\n",
       "      <td>Nisam zaposlen ali freelanceam</td>\n",
       "      <td>1</td>\n",
       "    </tr>\n",
       "  </tbody>\n",
       "</table>\n",
       "</div>"
      ],
      "text/plain": [
       "   Q21(I)                             Q21  Q21(count)\n",
       "0       2                 2800kn - 4900kn           1\n",
       "1       3                 5000kn - 6900kn           1\n",
       "2       4                 7000kn - 8900kn           2\n",
       "3       5                 9000kn - 9900kn           1\n",
       "4       6               10000kn - 12900kn           1\n",
       "5       7               13000kn - 15900kn           1\n",
       "6      10  Nisam zaposlen ali freelanceam           1"
      ]
     },
     "metadata": {},
     "output_type": "display_data"
    },
    {
     "data": {
      "image/png": "[encoded data removed]",
      "text/plain": [
       "<matplotlib.figure.Figure at 0x1a149f3668>"
      ]
     },
     "metadata": {},
     "output_type": "display_data"
    }
   ],
   "source": [
    "plot_region('SPLITSKO-DALMATINSKA')"
   ]
  },
  {
   "cell_type": "markdown",
   "metadata": {},
   "source": [
    "### Zagrebacka"
   ]
  },
  {
   "cell_type": "code",
   "execution_count": 86,
   "metadata": {},
   "outputs": [
    {
     "data": {
      "text/html": [
       "<div>\n",
       "<style>\n",
       "    .dataframe thead tr:only-child th {\n",
       "        text-align: right;\n",
       "    }\n",
       "\n",
       "    .dataframe thead th {\n",
       "        text-align: left;\n",
       "    }\n",
       "\n",
       "    .dataframe tbody tr th {\n",
       "        vertical-align: top;\n",
       "    }\n",
       "</style>\n",
       "<table border=\"1\" class=\"dataframe\">\n",
       "  <thead>\n",
       "    <tr style=\"text-align: right;\">\n",
       "      <th></th>\n",
       "      <th>Q21(I)</th>\n",
       "      <th>Q21</th>\n",
       "      <th>Q21(count)</th>\n",
       "    </tr>\n",
       "  </thead>\n",
       "  <tbody>\n",
       "    <tr>\n",
       "      <th>0</th>\n",
       "      <td>0</td>\n",
       "      <td>Trenutno nisam zaposlen</td>\n",
       "      <td>1</td>\n",
       "    </tr>\n",
       "    <tr>\n",
       "      <th>1</th>\n",
       "      <td>2</td>\n",
       "      <td>2800kn - 4900kn</td>\n",
       "      <td>1</td>\n",
       "    </tr>\n",
       "    <tr>\n",
       "      <th>2</th>\n",
       "      <td>3</td>\n",
       "      <td>5000kn - 6900kn</td>\n",
       "      <td>8</td>\n",
       "    </tr>\n",
       "    <tr>\n",
       "      <th>3</th>\n",
       "      <td>4</td>\n",
       "      <td>7000kn - 8900kn</td>\n",
       "      <td>7</td>\n",
       "    </tr>\n",
       "    <tr>\n",
       "      <th>4</th>\n",
       "      <td>5</td>\n",
       "      <td>9000kn - 9900kn</td>\n",
       "      <td>1</td>\n",
       "    </tr>\n",
       "    <tr>\n",
       "      <th>5</th>\n",
       "      <td>6</td>\n",
       "      <td>10000kn - 12900kn</td>\n",
       "      <td>1</td>\n",
       "    </tr>\n",
       "    <tr>\n",
       "      <th>6</th>\n",
       "      <td>9</td>\n",
       "      <td>20000kn i više</td>\n",
       "      <td>6</td>\n",
       "    </tr>\n",
       "  </tbody>\n",
       "</table>\n",
       "</div>"
      ],
      "text/plain": [
       "   Q21(I)                      Q21  Q21(count)\n",
       "0       0  Trenutno nisam zaposlen           1\n",
       "1       2          2800kn - 4900kn           1\n",
       "2       3          5000kn - 6900kn           8\n",
       "3       4          7000kn - 8900kn           7\n",
       "4       5          9000kn - 9900kn           1\n",
       "5       6        10000kn - 12900kn           1\n",
       "6       9           20000kn i više           6"
      ]
     },
     "metadata": {},
     "output_type": "display_data"
    },
    {
     "data": {
      "image/png": "[encoded data removed]",
      "text/plain": [
       "<matplotlib.figure.Figure at 0x1a14a400f0>"
      ]
     },
     "metadata": {},
     "output_type": "display_data"
    }
   ],
   "source": [
    "plot_region('ZAGREBAČKA')"
   ]
  },
  {
   "cell_type": "markdown",
   "metadata": {},
   "source": [
    "## By Age"
   ]
  },
  {
   "cell_type": "code",
   "execution_count": 87,
   "metadata": {
    "collapsed": true
   },
   "outputs": [],
   "source": [
    "# Add helper indexes\n",
    "professional_age_keys = {'manje od 1 godine':0, '2 - 3 godine':1, '4 - 7 godina':2, '8 - 10 godina':3, '11 - 20 godina':4, 'više od 20 godina':5}\n",
    "df['Q1(I)'] = df['Q1'].replace(professional_age_keys)\n",
    "\n",
    "position_age_keys = {'manje od 1 godine':0, '2-5 godina':1, '6-10 godina':2, '11-20 godina':3}\n",
    "df['Q10(I)'] = df['Q10'].replace(position_age_keys)"
   ]
  },
  {
   "cell_type": "code",
   "execution_count": 88,
   "metadata": {
    "collapsed": true
   },
   "outputs": [],
   "source": [
    "by_age = df.groupby('Q4').count().iloc[:,1].reset_index(name='Q4(count)')\n",
    "professional_age = df.groupby(['Q1', 'Q1(I)']).count().iloc[:,1].reset_index(name='Q1(count)')\n",
    "position_age = df.groupby(['Q10', 'Q10(I)']).count().iloc[:,1].reset_index(name='Q10(count)')"
   ]
  },
  {
   "cell_type": "markdown",
   "metadata": {},
   "source": [
    "### Q4: Koliko godina imate?"
   ]
  },
  {
   "cell_type": "code",
   "execution_count": 89,
   "metadata": {},
   "outputs": [
    {
     "data": {
      "text/html": [
       "<div>\n",
       "<style>\n",
       "    .dataframe thead tr:only-child th {\n",
       "        text-align: right;\n",
       "    }\n",
       "\n",
       "    .dataframe thead th {\n",
       "        text-align: left;\n",
       "    }\n",
       "\n",
       "    .dataframe tbody tr th {\n",
       "        vertical-align: top;\n",
       "    }\n",
       "</style>\n",
       "<table border=\"1\" class=\"dataframe\">\n",
       "  <thead>\n",
       "    <tr style=\"text-align: right;\">\n",
       "      <th></th>\n",
       "      <th>Q4</th>\n",
       "      <th>Q4(count)</th>\n",
       "    </tr>\n",
       "  </thead>\n",
       "  <tbody>\n",
       "    <tr>\n",
       "      <th>0</th>\n",
       "      <td>18-20</td>\n",
       "      <td>2</td>\n",
       "    </tr>\n",
       "    <tr>\n",
       "      <th>1</th>\n",
       "      <td>22-25</td>\n",
       "      <td>12</td>\n",
       "    </tr>\n",
       "    <tr>\n",
       "      <th>2</th>\n",
       "      <td>26-30</td>\n",
       "      <td>63</td>\n",
       "    </tr>\n",
       "    <tr>\n",
       "      <th>3</th>\n",
       "      <td>31-35</td>\n",
       "      <td>43</td>\n",
       "    </tr>\n",
       "    <tr>\n",
       "      <th>4</th>\n",
       "      <td>36-40</td>\n",
       "      <td>27</td>\n",
       "    </tr>\n",
       "    <tr>\n",
       "      <th>5</th>\n",
       "      <td>41-45</td>\n",
       "      <td>12</td>\n",
       "    </tr>\n",
       "    <tr>\n",
       "      <th>6</th>\n",
       "      <td>46-50</td>\n",
       "      <td>8</td>\n",
       "    </tr>\n",
       "  </tbody>\n",
       "</table>\n",
       "</div>"
      ],
      "text/plain": [
       "      Q4  Q4(count)\n",
       "0  18-20          2\n",
       "1  22-25         12\n",
       "2  26-30         63\n",
       "3  31-35         43\n",
       "4  36-40         27\n",
       "5  41-45         12\n",
       "6  46-50          8"
      ]
     },
     "metadata": {},
     "output_type": "display_data"
    },
    {
     "data": {
      "text/plain": [
       "<matplotlib.axes._subplots.AxesSubplot at 0x1a14d670b8>"
      ]
     },
     "execution_count": 89,
     "metadata": {},
     "output_type": "execute_result"
    },
    {
     "data": {
      "image/png": "[encoded data removed]",
      "text/plain": [
       "<matplotlib.figure.Figure at 0x1a14c58a90>"
      ]
     },
     "metadata": {},
     "output_type": "display_data"
    }
   ],
   "source": [
    "# Age distribution\n",
    "display(by_age)\n",
    "by_age.set_index('Q4').plot(kind='bar')"
   ]
  },
  {
   "cell_type": "markdown",
   "metadata": {},
   "source": [
    "### Q1: Koliko se godina profesionalno bavite digitalnim produktima?"
   ]
  },
  {
   "cell_type": "code",
   "execution_count": 90,
   "metadata": {},
   "outputs": [
    {
     "data": {
      "text/html": [
       "<div>\n",
       "<style>\n",
       "    .dataframe thead tr:only-child th {\n",
       "        text-align: right;\n",
       "    }\n",
       "\n",
       "    .dataframe thead th {\n",
       "        text-align: left;\n",
       "    }\n",
       "\n",
       "    .dataframe tbody tr th {\n",
       "        vertical-align: top;\n",
       "    }\n",
       "</style>\n",
       "<table border=\"1\" class=\"dataframe\">\n",
       "  <thead>\n",
       "    <tr style=\"text-align: right;\">\n",
       "      <th></th>\n",
       "      <th>Q1</th>\n",
       "      <th>Q1(I)</th>\n",
       "      <th>Q1(count)</th>\n",
       "    </tr>\n",
       "  </thead>\n",
       "  <tbody>\n",
       "    <tr>\n",
       "      <th>4</th>\n",
       "      <td>manje od 1 godine</td>\n",
       "      <td>0</td>\n",
       "      <td>9</td>\n",
       "    </tr>\n",
       "    <tr>\n",
       "      <th>1</th>\n",
       "      <td>2 - 3 godine</td>\n",
       "      <td>1</td>\n",
       "      <td>43</td>\n",
       "    </tr>\n",
       "    <tr>\n",
       "      <th>2</th>\n",
       "      <td>4 - 7 godina</td>\n",
       "      <td>2</td>\n",
       "      <td>43</td>\n",
       "    </tr>\n",
       "    <tr>\n",
       "      <th>3</th>\n",
       "      <td>8 - 10 godina</td>\n",
       "      <td>3</td>\n",
       "      <td>28</td>\n",
       "    </tr>\n",
       "    <tr>\n",
       "      <th>0</th>\n",
       "      <td>11 - 20 godina</td>\n",
       "      <td>4</td>\n",
       "      <td>41</td>\n",
       "    </tr>\n",
       "    <tr>\n",
       "      <th>5</th>\n",
       "      <td>više od 20 godina</td>\n",
       "      <td>5</td>\n",
       "      <td>3</td>\n",
       "    </tr>\n",
       "  </tbody>\n",
       "</table>\n",
       "</div>"
      ],
      "text/plain": [
       "                  Q1  Q1(I)  Q1(count)\n",
       "4  manje od 1 godine      0          9\n",
       "1       2 - 3 godine      1         43\n",
       "2       4 - 7 godina      2         43\n",
       "3      8 - 10 godina      3         28\n",
       "0     11 - 20 godina      4         41\n",
       "5  više od 20 godina      5          3"
      ]
     },
     "metadata": {},
     "output_type": "display_data"
    },
    {
     "data": {
      "text/plain": [
       "<matplotlib.axes._subplots.AxesSubplot at 0x1a14e2f198>"
      ]
     },
     "execution_count": 90,
     "metadata": {},
     "output_type": "execute_result"
    },
    {
     "data": {
      "image/png": "[encoded data removed]",
      "text/plain": [
       "<matplotlib.figure.Figure at 0x1a14a38da0>"
      ]
     },
     "metadata": {},
     "output_type": "display_data"
    }
   ],
   "source": [
    "# Professional age distribution\n",
    "professional_age.sort_values(by='Q1(I)', inplace=True)\n",
    "\n",
    "display(professional_age)\n",
    "professional_age.set_index('Q1')['Q1(count)'].plot(kind='bar')"
   ]
  },
  {
   "cell_type": "markdown",
   "metadata": {},
   "source": [
    "### Q10: Koliko godina radite na trenutnoj poziciji?"
   ]
  },
  {
   "cell_type": "code",
   "execution_count": 91,
   "metadata": {},
   "outputs": [
    {
     "data": {
      "text/html": [
       "<div>\n",
       "<style>\n",
       "    .dataframe thead tr:only-child th {\n",
       "        text-align: right;\n",
       "    }\n",
       "\n",
       "    .dataframe thead th {\n",
       "        text-align: left;\n",
       "    }\n",
       "\n",
       "    .dataframe tbody tr th {\n",
       "        vertical-align: top;\n",
       "    }\n",
       "</style>\n",
       "<table border=\"1\" class=\"dataframe\">\n",
       "  <thead>\n",
       "    <tr style=\"text-align: right;\">\n",
       "      <th></th>\n",
       "      <th>Q10</th>\n",
       "      <th>Q10(I)</th>\n",
       "      <th>Q10(count)</th>\n",
       "    </tr>\n",
       "  </thead>\n",
       "  <tbody>\n",
       "    <tr>\n",
       "      <th>3</th>\n",
       "      <td>manje od 1 godine</td>\n",
       "      <td>0</td>\n",
       "      <td>39</td>\n",
       "    </tr>\n",
       "    <tr>\n",
       "      <th>1</th>\n",
       "      <td>2-5 godina</td>\n",
       "      <td>1</td>\n",
       "      <td>75</td>\n",
       "    </tr>\n",
       "    <tr>\n",
       "      <th>2</th>\n",
       "      <td>6-10 godina</td>\n",
       "      <td>2</td>\n",
       "      <td>38</td>\n",
       "    </tr>\n",
       "    <tr>\n",
       "      <th>0</th>\n",
       "      <td>11-20 godina</td>\n",
       "      <td>3</td>\n",
       "      <td>15</td>\n",
       "    </tr>\n",
       "  </tbody>\n",
       "</table>\n",
       "</div>"
      ],
      "text/plain": [
       "                 Q10  Q10(I)  Q10(count)\n",
       "3  manje od 1 godine       0          39\n",
       "1         2-5 godina       1          75\n",
       "2        6-10 godina       2          38\n",
       "0       11-20 godina       3          15"
      ]
     },
     "metadata": {},
     "output_type": "display_data"
    },
    {
     "data": {
      "text/plain": [
       "<matplotlib.axes._subplots.AxesSubplot at 0x1a14c6b748>"
      ]
     },
     "execution_count": 91,
     "metadata": {},
     "output_type": "execute_result"
    },
    {
     "data": {
      "image/png": "[encoded data removed]",
      "text/plain": [
       "<matplotlib.figure.Figure at 0x1a14e6ca20>"
      ]
     },
     "metadata": {},
     "output_type": "display_data"
    }
   ],
   "source": [
    "# Current position distribution\n",
    "position_age.sort_values(by='Q10(I)', inplace=True)\n",
    "\n",
    "display(position_age)\n",
    "position_age.set_index('Q10')['Q10(count)'].plot(kind='bar')"
   ]
  },
  {
   "cell_type": "markdown",
   "metadata": {},
   "source": [
    "### Interensting age correlations"
   ]
  },
  {
   "cell_type": "markdown",
   "metadata": {},
   "source": [
    "#### Salary by age"
   ]
  },
  {
   "cell_type": "code",
   "execution_count": 92,
   "metadata": {},
   "outputs": [
    {
     "data": {
      "text/plain": [
       "Q21(I)  Q21                             Q4   \n",
       "0       Trenutno nisam zaposlen         26-30     1\n",
       "1       Manje od 2800kn                 26-30     1\n",
       "2       2800kn - 4900kn                 22-25     4\n",
       "                                        26-30     7\n",
       "                                        31-35     2\n",
       "                                        36-40     1\n",
       "                                        41-45     1\n",
       "                                        46-50     1\n",
       "3       5000kn - 6900kn                 22-25     4\n",
       "                                        26-30    22\n",
       "                                        31-35     7\n",
       "                                        36-40     3\n",
       "                                        41-45     2\n",
       "4       7000kn - 8900kn                 22-25     2\n",
       "                                        26-30    17\n",
       "                                        31-35    10\n",
       "                                        36-40     4\n",
       "                                        41-45     1\n",
       "                                        46-50     1\n",
       "5       9000kn - 9900kn                 22-25     1\n",
       "                                        26-30     3\n",
       "                                        31-35     1\n",
       "                                        36-40     4\n",
       "6       10000kn - 12900kn               26-30     4\n",
       "                                        31-35     5\n",
       "                                        36-40     7\n",
       "                                        41-45     3\n",
       "                                        46-50     2\n",
       "7       13000kn - 15900kn               22-25     1\n",
       "                                        26-30     4\n",
       "                                        31-35     5\n",
       "                                        36-40     1\n",
       "8       16000kn - 20000kn               31-35     2\n",
       "                                        36-40     2\n",
       "                                        41-45     1\n",
       "                                        46-50     2\n",
       "9       20000kn i više                  26-30     3\n",
       "                                        31-35     7\n",
       "                                        36-40     3\n",
       "                                        41-45     2\n",
       "                                        46-50     1\n",
       "10      Nisam zaposlen ali freelanceam  18-20     2\n",
       "                                        26-30     1\n",
       "                                        31-35     4\n",
       "                                        36-40     2\n",
       "                                        41-45     2\n",
       "                                        46-50     1\n",
       "Name: Q1, dtype: int64"
      ]
     },
     "execution_count": 92,
     "metadata": {},
     "output_type": "execute_result"
    }
   ],
   "source": [
    "# @TODO need to display relative group data (inside the group) \n",
    "salary_by_age_display = df.groupby(['Q21(I)', 'Q21', 'Q4']).count().iloc[:,1]\n",
    "salary_by_age_display"
   ]
  },
  {
   "cell_type": "code",
   "execution_count": 93,
   "metadata": {},
   "outputs": [
    {
     "data": {
      "text/plain": [
       "<matplotlib.axes._subplots.AxesSubplot at 0x1a14f12b70>"
      ]
     },
     "execution_count": 93,
     "metadata": {},
     "output_type": "execute_result"
    },
    {
     "data": {
      "image/png": "[encoded data removed]",
      "text/plain": [
       "<matplotlib.figure.Figure at 0x1a1392ebe0>"
      ]
     },
     "metadata": {},
     "output_type": "display_data"
    }
   ],
   "source": [
    "# @TODO: need to find a better colormap: https://matplotlib.org/tutorials/colors/colormaps.html\n",
    "salary_by_age = df.groupby(['Q21(I)', 'Q21', 'Q4']).count().iloc[:,1]\n",
    "salary_by_age_graph = salary_by_age.unstack(level=-1, fill_value=0)\n",
    "salary_by_age_graph.plot(kind='bar', figsize=(18, 8), colormap='cool', width=0.8)"
   ]
  },
  {
   "cell_type": "markdown",
   "metadata": {},
   "source": [
    "#### Age by salary"
   ]
  },
  {
   "cell_type": "code",
   "execution_count": 94,
   "metadata": {},
   "outputs": [
    {
     "data": {
      "text/plain": [
       "Q4     Q21(I)  Q21                           \n",
       "18-20  10      Nisam zaposlen ali freelanceam     2\n",
       "22-25  2       2800kn - 4900kn                    4\n",
       "       3       5000kn - 6900kn                    4\n",
       "       4       7000kn - 8900kn                    2\n",
       "       5       9000kn - 9900kn                    1\n",
       "       7       13000kn - 15900kn                  1\n",
       "26-30  0       Trenutno nisam zaposlen            1\n",
       "       1       Manje od 2800kn                    1\n",
       "       2       2800kn - 4900kn                    7\n",
       "       3       5000kn - 6900kn                   22\n",
       "       4       7000kn - 8900kn                   17\n",
       "       5       9000kn - 9900kn                    3\n",
       "       6       10000kn - 12900kn                  4\n",
       "       7       13000kn - 15900kn                  4\n",
       "       9       20000kn i više                     3\n",
       "       10      Nisam zaposlen ali freelanceam     1\n",
       "31-35  2       2800kn - 4900kn                    2\n",
       "       3       5000kn - 6900kn                    7\n",
       "       4       7000kn - 8900kn                   10\n",
       "       5       9000kn - 9900kn                    1\n",
       "       6       10000kn - 12900kn                  5\n",
       "       7       13000kn - 15900kn                  5\n",
       "       8       16000kn - 20000kn                  2\n",
       "       9       20000kn i više                     7\n",
       "       10      Nisam zaposlen ali freelanceam     4\n",
       "36-40  2       2800kn - 4900kn                    1\n",
       "       3       5000kn - 6900kn                    3\n",
       "       4       7000kn - 8900kn                    4\n",
       "       5       9000kn - 9900kn                    4\n",
       "       6       10000kn - 12900kn                  7\n",
       "       7       13000kn - 15900kn                  1\n",
       "       8       16000kn - 20000kn                  2\n",
       "       9       20000kn i više                     3\n",
       "       10      Nisam zaposlen ali freelanceam     2\n",
       "41-45  2       2800kn - 4900kn                    1\n",
       "       3       5000kn - 6900kn                    2\n",
       "       4       7000kn - 8900kn                    1\n",
       "       6       10000kn - 12900kn                  3\n",
       "       8       16000kn - 20000kn                  1\n",
       "       9       20000kn i više                     2\n",
       "       10      Nisam zaposlen ali freelanceam     2\n",
       "46-50  2       2800kn - 4900kn                    1\n",
       "       4       7000kn - 8900kn                    1\n",
       "       6       10000kn - 12900kn                  2\n",
       "       8       16000kn - 20000kn                  2\n",
       "       9       20000kn i više                     1\n",
       "       10      Nisam zaposlen ali freelanceam     1\n",
       "Name: Q1, dtype: int64"
      ]
     },
     "execution_count": 94,
     "metadata": {},
     "output_type": "execute_result"
    }
   ],
   "source": [
    "age_by_salary_display = df.groupby(['Q4', 'Q21(I)', 'Q21']).count().iloc[:,1]\n",
    "age_by_salary_display"
   ]
  },
  {
   "cell_type": "code",
   "execution_count": 95,
   "metadata": {},
   "outputs": [
    {
     "data": {
      "text/plain": [
       "<matplotlib.axes._subplots.AxesSubplot at 0x1a15123be0>"
      ]
     },
     "execution_count": 95,
     "metadata": {},
     "output_type": "execute_result"
    },
    {
     "data": {
      "image/png": "[encoded data removed]",
      "text/plain": [
       "<matplotlib.figure.Figure at 0x1a1392ea58>"
      ]
     },
     "metadata": {},
     "output_type": "display_data"
    }
   ],
   "source": [
    "# @TODO: need to find a better colormap: https://matplotlib.org/tutorials/colors/colormaps.html\n",
    "age_by_salary = df.groupby(['Q4', 'Q21(I)']).count().iloc[:,1]\n",
    "age_by_salary_graph = age_by_salary.unstack(level=-1, fill_value=0)\n",
    "age_by_salary_graph.plot(kind='bar', figsize=(18, 8), colormap='cool', width=0.8)"
   ]
  },
  {
   "cell_type": "markdown",
   "metadata": {},
   "source": [
    "## By workplace happiness"
   ]
  },
  {
   "cell_type": "markdown",
   "metadata": {},
   "source": [
    "Q20: Koliko ste zadovoljni trenutnim poslom?  \n",
    "Q22: Koliko ste zadovoljni mjesečnim prihodima?"
   ]
  },
  {
   "cell_type": "code",
   "execution_count": 96,
   "metadata": {},
   "outputs": [
    {
     "data": {
      "text/html": [
       "<div>\n",
       "<style>\n",
       "    .dataframe thead tr:only-child th {\n",
       "        text-align: right;\n",
       "    }\n",
       "\n",
       "    .dataframe thead th {\n",
       "        text-align: left;\n",
       "    }\n",
       "\n",
       "    .dataframe tbody tr th {\n",
       "        vertical-align: top;\n",
       "    }\n",
       "</style>\n",
       "<table border=\"1\" class=\"dataframe\">\n",
       "  <thead>\n",
       "    <tr style=\"text-align: right;\">\n",
       "      <th></th>\n",
       "      <th>Q20</th>\n",
       "      <th>count</th>\n",
       "    </tr>\n",
       "  </thead>\n",
       "  <tbody>\n",
       "    <tr>\n",
       "      <th>0</th>\n",
       "      <td>1</td>\n",
       "      <td>2</td>\n",
       "    </tr>\n",
       "    <tr>\n",
       "      <th>1</th>\n",
       "      <td>2</td>\n",
       "      <td>9</td>\n",
       "    </tr>\n",
       "    <tr>\n",
       "      <th>2</th>\n",
       "      <td>3</td>\n",
       "      <td>30</td>\n",
       "    </tr>\n",
       "    <tr>\n",
       "      <th>3</th>\n",
       "      <td>4</td>\n",
       "      <td>82</td>\n",
       "    </tr>\n",
       "    <tr>\n",
       "      <th>4</th>\n",
       "      <td>5</td>\n",
       "      <td>44</td>\n",
       "    </tr>\n",
       "  </tbody>\n",
       "</table>\n",
       "</div>"
      ],
      "text/plain": [
       "   Q20  count\n",
       "0    1      2\n",
       "1    2      9\n",
       "2    3     30\n",
       "3    4     82\n",
       "4    5     44"
      ]
     },
     "metadata": {},
     "output_type": "display_data"
    },
    {
     "data": {
      "text/plain": [
       "<matplotlib.axes._subplots.AxesSubplot at 0x1a15276ba8>"
      ]
     },
     "execution_count": 96,
     "metadata": {},
     "output_type": "execute_result"
    },
    {
     "data": {
      "image/png": "[encoded data removed]",
      "text/plain": [
       "<matplotlib.figure.Figure at 0x1a15210e80>"
      ]
     },
     "metadata": {},
     "output_type": "display_data"
    }
   ],
   "source": [
    "happiness = df.groupby('Q20').count().iloc[:,1].reset_index(name='count')\n",
    "display(happiness)\n",
    "happiness.set_index('Q20')['count'].plot.bar()"
   ]
  },
  {
   "cell_type": "code",
   "execution_count": 97,
   "metadata": {},
   "outputs": [
    {
     "name": "stdout",
     "output_type": "stream",
     "text": [
      "In general happiness score is: 3.940119760479042 , while females report the score of: 3.7666666666666666 , and males report the score of: 4.0285714285714285  (pvalue =  0.174891448061 )\n"
     ]
    }
   ],
   "source": [
    "happiness_general = df['Q20'].mean()\n",
    "happiness_female = female['Q20'].mean()\n",
    "happiness_male = male['Q20'].mean()\n",
    "p_value_happiness_by_gender = sp.stats.ranksums(female['Q20'], male['Q20']).pvalue\n",
    "\n",
    "print('In general happiness score is:', happiness_general, ', while females report the score of:', happiness_female, ', and males report the score of:', happiness_male, ' (pvalue = ', p_value_happiness_by_gender,')')"
   ]
  },
  {
   "cell_type": "markdown",
   "metadata": {},
   "source": [
    "## By education"
   ]
  },
  {
   "cell_type": "markdown",
   "metadata": {
    "collapsed": true
   },
   "source": [
    "Q9: Na skali od 1-7, koliko vas je obrazovanje pripremilo za trenutnu radnu poziciju?  \n",
    "Q7: Obrazovanje    "
   ]
  },
  {
   "cell_type": "code",
   "execution_count": 116,
   "metadata": {},
   "outputs": [
    {
     "data": {
      "text/html": [
       "<div>\n",
       "<style>\n",
       "    .dataframe thead tr:only-child th {\n",
       "        text-align: right;\n",
       "    }\n",
       "\n",
       "    .dataframe thead th {\n",
       "        text-align: left;\n",
       "    }\n",
       "\n",
       "    .dataframe tbody tr th {\n",
       "        vertical-align: top;\n",
       "    }\n",
       "</style>\n",
       "<table border=\"1\" class=\"dataframe\">\n",
       "  <thead>\n",
       "    <tr style=\"text-align: right;\">\n",
       "      <th></th>\n",
       "      <th>Q7</th>\n",
       "      <th>count</th>\n",
       "      <th>mean</th>\n",
       "    </tr>\n",
       "  </thead>\n",
       "  <tbody>\n",
       "    <tr>\n",
       "      <th>24</th>\n",
       "      <td>GRF</td>\n",
       "      <td>44</td>\n",
       "      <td>2.727273</td>\n",
       "    </tr>\n",
       "    <tr>\n",
       "      <th>32</th>\n",
       "      <td>Srednja stručna sprema</td>\n",
       "      <td>40</td>\n",
       "      <td>1.925000</td>\n",
       "    </tr>\n",
       "    <tr>\n",
       "      <th>7</th>\n",
       "      <td>Arhitektonski fakultet - studij dizajna</td>\n",
       "      <td>18</td>\n",
       "      <td>3.166667</td>\n",
       "    </tr>\n",
       "    <tr>\n",
       "      <th>37</th>\n",
       "      <td>TVZ</td>\n",
       "      <td>13</td>\n",
       "      <td>2.769231</td>\n",
       "    </tr>\n",
       "    <tr>\n",
       "      <th>9</th>\n",
       "      <td>FER</td>\n",
       "      <td>5</td>\n",
       "      <td>3.200000</td>\n",
       "    </tr>\n",
       "  </tbody>\n",
       "</table>\n",
       "</div>"
      ],
      "text/plain": [
       "                                         Q7  count      mean\n",
       "24                                      GRF     44  2.727273\n",
       "32                   Srednja stručna sprema     40  1.925000\n",
       "7   Arhitektonski fakultet - studij dizajna     18  3.166667\n",
       "37                                      TVZ     13  2.769231\n",
       "9                                       FER      5  3.200000"
      ]
     },
     "execution_count": 116,
     "metadata": {},
     "output_type": "execute_result"
    }
   ],
   "source": [
    "# count by education\n",
    "# by_education = df.groupby('Q7').count().iloc[:,1].reset_index(name='Q7(count)')\n",
    "# by_education.sort_values(by=['Q7(count)'], inplace=True, ascending=False)\n",
    "\n",
    "by_education = df.groupby('Q7')['Q9'].agg(['count', 'mean']).reset_index()\n",
    "by_education.sort_values(by=['count'], inplace=True, ascending=False)\n",
    "\n",
    "# if we remove entries with less than 5 answers\n",
    "by_education = by_education.loc[by_education['count'] >= 5]\n",
    "by_education"
   ]
  },
  {
   "cell_type": "code",
   "execution_count": null,
   "metadata": {
    "collapsed": true
   },
   "outputs": [],
   "source": []
  }
 ],
 "metadata": {
  "kernelspec": {
   "display_name": "Python 3",
   "language": "python",
   "name": "python3"
  },
  "language_info": {
   "codemirror_mode": {
    "name": "ipython",
    "version": 3
   },
   "file_extension": ".py",
   "mimetype": "text/x-python",
   "name": "python",
   "nbconvert_exporter": "python",
   "pygments_lexer": "ipython3",
   "version": "3.6.3"
  }
 },
 "nbformat": 4,
 "nbformat_minor": 2
}
