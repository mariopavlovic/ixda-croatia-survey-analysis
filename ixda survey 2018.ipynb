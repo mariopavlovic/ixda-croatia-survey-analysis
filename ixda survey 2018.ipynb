{
 "cells": [
  {
   "cell_type": "code",
   "execution_count": 277,
   "metadata": {
    "collapsed": true
   },
   "outputs": [],
   "source": [
    "# Imports\n",
    "import numpy as np\n",
    "import pandas as pd\n",
    "from pandas import Series, DataFrame\n",
    "\n",
    "import scipy as sp\n",
    "import scipy.stats\n",
    "\n",
    "import matplotlib.pyplot as plt\n",
    "%matplotlib inline "
   ]
  },
  {
   "cell_type": "code",
   "execution_count": 278,
   "metadata": {
    "collapsed": true
   },
   "outputs": [],
   "source": [
    "# Get data\n",
    "df = pd.read_csv(\"data.csv\")"
   ]
  },
  {
   "cell_type": "code",
   "execution_count": 279,
   "metadata": {
    "collapsed": true
   },
   "outputs": [],
   "source": [
    "# Display data helper function\n",
    "def display_data(data):\n",
    "    with pd.option_context('display.max_rows', None, 'display.max_columns', None):\n",
    "        display(data)"
   ]
  },
  {
   "cell_type": "code",
   "execution_count": 280,
   "metadata": {
    "collapsed": true
   },
   "outputs": [],
   "source": [
    "# Cleanup - Mark questions as 'QX' for easier future reference\n",
    "columns = df.columns.tolist()\n",
    "answer = 0\n",
    "question = 0\n",
    "\n",
    "for i in range(1, len(columns)):\n",
    "    # Grid questions have option in '[]'\n",
    "    if (columns[i].endswith(']')):\n",
    "        # Check if this is first answer, if so this is a new question\n",
    "        if (answer == 0):\n",
    "            question = question + 1\n",
    "        answer = answer + 1\n",
    "        columns[i] = 'Q' + str(question) + '-' + str(answer)\n",
    "    else:\n",
    "        question = question + 1\n",
    "        answer = 0    \n",
    "        columns[i] = 'Q' + str(question)\n",
    "  \n",
    "df.columns = columns\n",
    "# helper: display all columns for just the first row `display_data(df[1:2])`"
   ]
  },
  {
   "cell_type": "code",
   "execution_count": 281,
   "metadata": {
    "collapsed": true
   },
   "outputs": [],
   "source": [
    "# Cleanup - Remove positions that are not design specific\n",
    "# helper: list all distinct positions via `set(df['Q2'])`\n",
    "whitelisted_positions = ['Amaterski dizajner','CX dizajner','Dizajner interakcija','Dizajner vizualnih komunikacija','Grafički dizajner','Interactive Art Director','Marketing/Brand dizajner','Miks - Web dizajner, Dizajner interakcija, Grafički dizajner, Marketing/brand dizajner, Dizajner vizualnih komunikacijam Copywriter, UX/UI dizajner','Multimedijalni dizajner','Produkt dizajner (digitalni proizvodi)','Researcher','Student / UI dizajner / Produkt dizajner (digitalni proizvodi)','UI dizajner','UI/UX/grafički dizajner/dizajner vizualnih komunikacija','UX dizajner','UX/UI dizajner','Web dizajner','Web dizajner, graficki dizajner, marketing/branding dizajner, ux/ui dizajner']\n",
    "df = df[df['Q2'].isin(whitelisted_positions)]"
   ]
  },
  {
   "cell_type": "code",
   "execution_count": 282,
   "metadata": {
    "collapsed": true
   },
   "outputs": [],
   "source": [
    "# Helper columns (I for Index)\n",
    "salary_descriptive_keys = {'Trenutno nisam zaposlen':0, 'Manje od 2800kn':1, '2800kn - 4900kn':2, '5000kn - 6900kn':3, '7000kn - 8900kn':4, '9000kn - 9900kn':5, '10000kn - 12900kn':6, '13000kn - 15900kn':7, '16000kn - 20000kn':8, '20000kn i više':9, 'Nisam zaposlen ali freelanceam':10}\n",
    "sorted_salary_descriptive = sorted(salary_descriptive_keys, key=salary_descriptive_keys.get)\n",
    "df['Q21(I)'] = df['Q21'].replace(salary_descriptive_keys)"
   ]
  },
  {
   "cell_type": "markdown",
   "metadata": {},
   "source": [
    "# Segmentation"
   ]
  },
  {
   "cell_type": "markdown",
   "metadata": {},
   "source": [
    "## By Sex"
   ]
  },
  {
   "cell_type": "code",
   "execution_count": 283,
   "metadata": {},
   "outputs": [
    {
     "name": "stdout",
     "output_type": "stream",
     "text": [
      "Survey completed by  57  females,  102  males, and  2  undefined\n"
     ]
    }
   ],
   "source": [
    "female = df[df['Q3']=='Ženski']\n",
    "male = df[df['Q3']=='Muški']\n",
    "\n",
    "num_female = len(female)\n",
    "num_male = len(male)\n",
    "num_undefined = len(df) - num_female - num_male\n",
    "\n",
    "print('Survey completed by ', num_female,' females, ', num_male, ' males, and ', num_undefined, ' undefined')"
   ]
  },
  {
   "cell_type": "code",
   "execution_count": 284,
   "metadata": {},
   "outputs": [
    {
     "data": {
      "text/plain": [
       "Q21(I)  Q21                             Q3    \n",
       "0       Trenutno nisam zaposlen         Ženski     1\n",
       "2       2800kn - 4900kn                 Muški      8\n",
       "                                        Ženski     8\n",
       "3       5000kn - 6900kn                 Muški     20\n",
       "                                        Ženski    16\n",
       "4       7000kn - 8900kn                 Muški     21\n",
       "                                        Ženski    12\n",
       "5       9000kn - 9900kn                 Muški      4\n",
       "                                        Ženski     5\n",
       "6       10000kn - 12900kn               Muški     15\n",
       "                                        Ženski     5\n",
       "7       13000kn - 15900kn               Muški      8\n",
       "                                        Ženski     3\n",
       "8       16000kn - 20000kn               Muški      7\n",
       "9       20000kn i više                  Muški     13\n",
       "                                        Ženski     1\n",
       "10      Nisam zaposlen ali freelanceam  Muški      6\n",
       "                                        Ženski     6\n",
       "Name: Q1, dtype: int64"
      ]
     },
     "metadata": {},
     "output_type": "display_data"
    },
    {
     "data": {
      "text/plain": [
       "<matplotlib.axes._subplots.AxesSubplot at 0x1a28fb1470>"
      ]
     },
     "execution_count": 284,
     "metadata": {},
     "output_type": "execute_result"
    },
    {
     "data": {
      "image/png": "[encoded data removed]",
      "text/plain": [
       "<matplotlib.figure.Figure at 0x1a28ecc438>"
      ]
     },
     "metadata": {},
     "output_type": "display_data"
    }
   ],
   "source": [
    "# Salary\n",
    "# General\n",
    "salary_general = df.groupby(['Q21(I)', 'Q21']).count().iloc[:,1]\n",
    "salary_general_with_sex = df[df.Q3 != \"N/A OR OTHER\"].groupby(['Q21(I)', 'Q21', 'Q3']).count().iloc[:,1]\n",
    "display(salary_general_with_sex)\n",
    "salary_general.plot(kind='bar', label='Q21')"
   ]
  },
  {
   "cell_type": "code",
   "execution_count": 285,
   "metadata": {
    "collapsed": true
   },
   "outputs": [],
   "source": [
    "# By Sex\n",
    "salary_female = female.groupby(['Q21(I)']).count().iloc[:,1].reset_index(name='Q3(count)')\n",
    "salary_male = male.groupby(['Q21(I)']).count().iloc[:,1].reset_index(name='Q3(count)')\n",
    "\n",
    "# @TODO: Remove index 10 (freelancer) as it doesn't carry any value "
   ]
  },
  {
   "cell_type": "code",
   "execution_count": 286,
   "metadata": {},
   "outputs": [
    {
     "data": {
      "text/html": [
       "<div>\n",
       "<style>\n",
       "    .dataframe thead tr:only-child th {\n",
       "        text-align: right;\n",
       "    }\n",
       "\n",
       "    .dataframe thead th {\n",
       "        text-align: left;\n",
       "    }\n",
       "\n",
       "    .dataframe tbody tr th {\n",
       "        vertical-align: top;\n",
       "    }\n",
       "</style>\n",
       "<table border=\"1\" class=\"dataframe\">\n",
       "  <thead>\n",
       "    <tr style=\"text-align: right;\">\n",
       "      <th></th>\n",
       "      <th>Q21(I)</th>\n",
       "      <th>Q3(count)_female</th>\n",
       "      <th>Q3(rel)_female</th>\n",
       "      <th>Q3(count)_male</th>\n",
       "      <th>Q3(rel)_male</th>\n",
       "    </tr>\n",
       "  </thead>\n",
       "  <tbody>\n",
       "    <tr>\n",
       "      <th>0</th>\n",
       "      <td>0</td>\n",
       "      <td>1.0</td>\n",
       "      <td>1.754386</td>\n",
       "      <td>0.0</td>\n",
       "      <td>0.000000</td>\n",
       "    </tr>\n",
       "    <tr>\n",
       "      <th>1</th>\n",
       "      <td>2</td>\n",
       "      <td>8.0</td>\n",
       "      <td>14.035088</td>\n",
       "      <td>8.0</td>\n",
       "      <td>7.843137</td>\n",
       "    </tr>\n",
       "    <tr>\n",
       "      <th>2</th>\n",
       "      <td>3</td>\n",
       "      <td>16.0</td>\n",
       "      <td>28.070175</td>\n",
       "      <td>20.0</td>\n",
       "      <td>19.607843</td>\n",
       "    </tr>\n",
       "    <tr>\n",
       "      <th>3</th>\n",
       "      <td>4</td>\n",
       "      <td>12.0</td>\n",
       "      <td>21.052632</td>\n",
       "      <td>21.0</td>\n",
       "      <td>20.588235</td>\n",
       "    </tr>\n",
       "    <tr>\n",
       "      <th>4</th>\n",
       "      <td>5</td>\n",
       "      <td>5.0</td>\n",
       "      <td>8.771930</td>\n",
       "      <td>4.0</td>\n",
       "      <td>3.921569</td>\n",
       "    </tr>\n",
       "    <tr>\n",
       "      <th>5</th>\n",
       "      <td>6</td>\n",
       "      <td>5.0</td>\n",
       "      <td>8.771930</td>\n",
       "      <td>15.0</td>\n",
       "      <td>14.705882</td>\n",
       "    </tr>\n",
       "    <tr>\n",
       "      <th>6</th>\n",
       "      <td>7</td>\n",
       "      <td>3.0</td>\n",
       "      <td>5.263158</td>\n",
       "      <td>8.0</td>\n",
       "      <td>7.843137</td>\n",
       "    </tr>\n",
       "    <tr>\n",
       "      <th>9</th>\n",
       "      <td>8</td>\n",
       "      <td>0.0</td>\n",
       "      <td>0.000000</td>\n",
       "      <td>7.0</td>\n",
       "      <td>6.862745</td>\n",
       "    </tr>\n",
       "    <tr>\n",
       "      <th>7</th>\n",
       "      <td>9</td>\n",
       "      <td>1.0</td>\n",
       "      <td>1.754386</td>\n",
       "      <td>13.0</td>\n",
       "      <td>12.745098</td>\n",
       "    </tr>\n",
       "    <tr>\n",
       "      <th>8</th>\n",
       "      <td>10</td>\n",
       "      <td>6.0</td>\n",
       "      <td>10.526316</td>\n",
       "      <td>6.0</td>\n",
       "      <td>5.882353</td>\n",
       "    </tr>\n",
       "  </tbody>\n",
       "</table>\n",
       "</div>"
      ],
      "text/plain": [
       "   Q21(I)  Q3(count)_female  Q3(rel)_female  Q3(count)_male  Q3(rel)_male\n",
       "0       0               1.0        1.754386             0.0      0.000000\n",
       "1       2               8.0       14.035088             8.0      7.843137\n",
       "2       3              16.0       28.070175            20.0     19.607843\n",
       "3       4              12.0       21.052632            21.0     20.588235\n",
       "4       5               5.0        8.771930             4.0      3.921569\n",
       "5       6               5.0        8.771930            15.0     14.705882\n",
       "6       7               3.0        5.263158             8.0      7.843137\n",
       "9       8               0.0        0.000000             7.0      6.862745\n",
       "7       9               1.0        1.754386            13.0     12.745098\n",
       "8      10               6.0       10.526316             6.0      5.882353"
      ]
     },
     "metadata": {},
     "output_type": "display_data"
    }
   ],
   "source": [
    "salary_female_df = DataFrame(salary_female)\n",
    "salary_male_df = DataFrame(salary_male)\n",
    "\n",
    "salary_female_df['Q3(rel)'] = (salary_female_df['Q3(count)'] / salary_female_df['Q3(count)'].sum()) * 100\n",
    "salary_male_df['Q3(rel)'] = (salary_male_df['Q3(count)'] / salary_male_df['Q3(count)'].sum()) * 100\n",
    "\n",
    "salary_sex_compared_df = pd.merge(salary_female_df, salary_male_df, on='Q21(I)', how='outer', suffixes=('_female', '_male'))\n",
    "salary_sex_compared_df.fillna(0, inplace=True)\n",
    "salary_sex_compared_df.sort_values(by=['Q21(I)'], inplace=True)\n",
    "salary_sex_compared_df.style.format({'Q3(rel)_female':'{:,.2f}%'.format})\n",
    "\n",
    "display(salary_sex_compared_df)"
   ]
  },
  {
   "cell_type": "code",
   "execution_count": 287,
   "metadata": {},
   "outputs": [
    {
     "data": {
      "text/html": [
       "<div>\n",
       "<style>\n",
       "    .dataframe thead tr:only-child th {\n",
       "        text-align: right;\n",
       "    }\n",
       "\n",
       "    .dataframe thead th {\n",
       "        text-align: left;\n",
       "    }\n",
       "\n",
       "    .dataframe tbody tr th {\n",
       "        vertical-align: top;\n",
       "    }\n",
       "</style>\n",
       "<table border=\"1\" class=\"dataframe\">\n",
       "  <thead>\n",
       "    <tr style=\"text-align: right;\">\n",
       "      <th></th>\n",
       "      <th>Q21(I)</th>\n",
       "      <th>Q3(rel)_female</th>\n",
       "      <th>Q3(rel)_male</th>\n",
       "    </tr>\n",
       "  </thead>\n",
       "  <tbody>\n",
       "    <tr>\n",
       "      <th>0</th>\n",
       "      <td>0</td>\n",
       "      <td>1.754386</td>\n",
       "      <td>0.000000</td>\n",
       "    </tr>\n",
       "    <tr>\n",
       "      <th>1</th>\n",
       "      <td>2</td>\n",
       "      <td>14.035088</td>\n",
       "      <td>7.843137</td>\n",
       "    </tr>\n",
       "    <tr>\n",
       "      <th>2</th>\n",
       "      <td>3</td>\n",
       "      <td>28.070175</td>\n",
       "      <td>19.607843</td>\n",
       "    </tr>\n",
       "    <tr>\n",
       "      <th>3</th>\n",
       "      <td>4</td>\n",
       "      <td>21.052632</td>\n",
       "      <td>20.588235</td>\n",
       "    </tr>\n",
       "    <tr>\n",
       "      <th>4</th>\n",
       "      <td>5</td>\n",
       "      <td>8.771930</td>\n",
       "      <td>3.921569</td>\n",
       "    </tr>\n",
       "    <tr>\n",
       "      <th>5</th>\n",
       "      <td>6</td>\n",
       "      <td>8.771930</td>\n",
       "      <td>14.705882</td>\n",
       "    </tr>\n",
       "    <tr>\n",
       "      <th>6</th>\n",
       "      <td>7</td>\n",
       "      <td>5.263158</td>\n",
       "      <td>7.843137</td>\n",
       "    </tr>\n",
       "    <tr>\n",
       "      <th>9</th>\n",
       "      <td>8</td>\n",
       "      <td>0.000000</td>\n",
       "      <td>6.862745</td>\n",
       "    </tr>\n",
       "    <tr>\n",
       "      <th>7</th>\n",
       "      <td>9</td>\n",
       "      <td>1.754386</td>\n",
       "      <td>12.745098</td>\n",
       "    </tr>\n",
       "    <tr>\n",
       "      <th>8</th>\n",
       "      <td>10</td>\n",
       "      <td>10.526316</td>\n",
       "      <td>5.882353</td>\n",
       "    </tr>\n",
       "  </tbody>\n",
       "</table>\n",
       "</div>"
      ],
      "text/plain": [
       "   Q21(I)  Q3(rel)_female  Q3(rel)_male\n",
       "0       0        1.754386      0.000000\n",
       "1       2       14.035088      7.843137\n",
       "2       3       28.070175     19.607843\n",
       "3       4       21.052632     20.588235\n",
       "4       5        8.771930      3.921569\n",
       "5       6        8.771930     14.705882\n",
       "6       7        5.263158      7.843137\n",
       "9       8        0.000000      6.862745\n",
       "7       9        1.754386     12.745098\n",
       "8      10       10.526316      5.882353"
      ]
     },
     "metadata": {},
     "output_type": "display_data"
    },
    {
     "data": {
      "text/plain": [
       "<matplotlib.axes._subplots.AxesSubplot at 0x1a2b746470>"
      ]
     },
     "execution_count": 287,
     "metadata": {},
     "output_type": "execute_result"
    },
    {
     "data": {
      "image/png": "[encoded data removed]",
      "text/plain": [
       "<matplotlib.figure.Figure at 0x1a2b00e908>"
      ]
     },
     "metadata": {},
     "output_type": "display_data"
    }
   ],
   "source": [
    "# Compare relative (size per bucket) \n",
    "display(salary_sex_compared_df[['Q21(I)', 'Q3(rel)_female', 'Q3(rel)_male']])\n",
    "salary_sex_compared_df[['Q3(rel)_male', 'Q3(rel)_female']].plot(kind='bar', colormap='cool')"
   ]
  },
  {
   "cell_type": "code",
   "execution_count": 288,
   "metadata": {},
   "outputs": [
    {
     "data": {
      "text/plain": [
       "RanksumsResult(statistic=-2.3992172786247603, pvalue=0.016430162149505975)"
      ]
     },
     "execution_count": 288,
     "metadata": {},
     "output_type": "execute_result"
    }
   ],
   "source": [
    "# Check statistical significance\n",
    "sp.stats.ranksums(female['Q21(I)'], male['Q21(I)'])"
   ]
  },
  {
   "cell_type": "markdown",
   "metadata": {
    "collapsed": true
   },
   "source": [
    "## By Region"
   ]
  },
  {
   "cell_type": "code",
   "execution_count": 289,
   "metadata": {},
   "outputs": [
    {
     "data": {
      "text/html": [
       "<div>\n",
       "<style>\n",
       "    .dataframe thead tr:only-child th {\n",
       "        text-align: right;\n",
       "    }\n",
       "\n",
       "    .dataframe thead th {\n",
       "        text-align: left;\n",
       "    }\n",
       "\n",
       "    .dataframe tbody tr th {\n",
       "        vertical-align: top;\n",
       "    }\n",
       "</style>\n",
       "<table border=\"1\" class=\"dataframe\">\n",
       "  <thead>\n",
       "    <tr style=\"text-align: right;\">\n",
       "      <th></th>\n",
       "      <th>Q6</th>\n",
       "      <th>Q6(count)</th>\n",
       "    </tr>\n",
       "  </thead>\n",
       "  <tbody>\n",
       "    <tr>\n",
       "      <th>4</th>\n",
       "      <td>GRAD ZAGREB</td>\n",
       "      <td>89</td>\n",
       "    </tr>\n",
       "    <tr>\n",
       "      <th>10</th>\n",
       "      <td>OSJEČKO-BARANJSKA</td>\n",
       "      <td>13</td>\n",
       "    </tr>\n",
       "    <tr>\n",
       "      <th>12</th>\n",
       "      <td>SPLITSKO-DALMATINSKA</td>\n",
       "      <td>7</td>\n",
       "    </tr>\n",
       "    <tr>\n",
       "      <th>18</th>\n",
       "      <td>ZAGREBAČKA</td>\n",
       "      <td>24</td>\n",
       "    </tr>\n",
       "  </tbody>\n",
       "</table>\n",
       "</div>"
      ],
      "text/plain": [
       "                      Q6  Q6(count)\n",
       "4            GRAD ZAGREB         89\n",
       "10     OSJEČKO-BARANJSKA         13\n",
       "12  SPLITSKO-DALMATINSKA          7\n",
       "18            ZAGREBAČKA         24"
      ]
     },
     "execution_count": 289,
     "metadata": {},
     "output_type": "execute_result"
    }
   ],
   "source": [
    "# lets distribution by region\n",
    "relevant_regions_count = DataFrame(df.groupby('Q6').count().iloc[:,1].reset_index(name='Q6(count)'))\n",
    "\n",
    "# if we remove entries with less than 5 answers\n",
    "relevant_regions_count.loc[relevant_regions_count['Q6(count)'] >= 5]"
   ]
  },
  {
   "cell_type": "markdown",
   "metadata": {},
   "source": [
    "### Grad Zagreb"
   ]
  },
  {
   "cell_type": "code",
   "execution_count": 290,
   "metadata": {},
   "outputs": [],
   "source": [
    "def plot_region(region):\n",
    "    # let check distribution for region by salary\n",
    "    region_salary_data = df[df['Q6'] == region].groupby(['Q21(I)', 'Q21']).count().iloc[:,1].reset_index(name='Q21(count)')\n",
    "    display(region_salary_data)\n",
    "\n",
    "    # plot\n",
    "    max_count = max(region_salary_data['Q21(count)']) + 1\n",
    "    region_salary_data.set_index('Q21')['Q21(count)'].plot(kind='bar', yticks=np.arange(0, max_count, 2), label='Q21')"
   ]
  },
  {
   "cell_type": "code",
   "execution_count": 291,
   "metadata": {},
   "outputs": [
    {
     "data": {
      "text/html": [
       "<div>\n",
       "<style>\n",
       "    .dataframe thead tr:only-child th {\n",
       "        text-align: right;\n",
       "    }\n",
       "\n",
       "    .dataframe thead th {\n",
       "        text-align: left;\n",
       "    }\n",
       "\n",
       "    .dataframe tbody tr th {\n",
       "        vertical-align: top;\n",
       "    }\n",
       "</style>\n",
       "<table border=\"1\" class=\"dataframe\">\n",
       "  <thead>\n",
       "    <tr style=\"text-align: right;\">\n",
       "      <th></th>\n",
       "      <th>Q21(I)</th>\n",
       "      <th>Q21</th>\n",
       "      <th>Q21(count)</th>\n",
       "    </tr>\n",
       "  </thead>\n",
       "  <tbody>\n",
       "    <tr>\n",
       "      <th>0</th>\n",
       "      <td>1</td>\n",
       "      <td>Manje od 2800kn</td>\n",
       "      <td>1</td>\n",
       "    </tr>\n",
       "    <tr>\n",
       "      <th>1</th>\n",
       "      <td>2</td>\n",
       "      <td>2800kn - 4900kn</td>\n",
       "      <td>8</td>\n",
       "    </tr>\n",
       "    <tr>\n",
       "      <th>2</th>\n",
       "      <td>3</td>\n",
       "      <td>5000kn - 6900kn</td>\n",
       "      <td>17</td>\n",
       "    </tr>\n",
       "    <tr>\n",
       "      <th>3</th>\n",
       "      <td>4</td>\n",
       "      <td>7000kn - 8900kn</td>\n",
       "      <td>18</td>\n",
       "    </tr>\n",
       "    <tr>\n",
       "      <th>4</th>\n",
       "      <td>5</td>\n",
       "      <td>9000kn - 9900kn</td>\n",
       "      <td>5</td>\n",
       "    </tr>\n",
       "    <tr>\n",
       "      <th>5</th>\n",
       "      <td>6</td>\n",
       "      <td>10000kn - 12900kn</td>\n",
       "      <td>16</td>\n",
       "    </tr>\n",
       "    <tr>\n",
       "      <th>6</th>\n",
       "      <td>7</td>\n",
       "      <td>13000kn - 15900kn</td>\n",
       "      <td>9</td>\n",
       "    </tr>\n",
       "    <tr>\n",
       "      <th>7</th>\n",
       "      <td>8</td>\n",
       "      <td>16000kn - 20000kn</td>\n",
       "      <td>3</td>\n",
       "    </tr>\n",
       "    <tr>\n",
       "      <th>8</th>\n",
       "      <td>9</td>\n",
       "      <td>20000kn i više</td>\n",
       "      <td>7</td>\n",
       "    </tr>\n",
       "    <tr>\n",
       "      <th>9</th>\n",
       "      <td>10</td>\n",
       "      <td>Nisam zaposlen ali freelanceam</td>\n",
       "      <td>5</td>\n",
       "    </tr>\n",
       "  </tbody>\n",
       "</table>\n",
       "</div>"
      ],
      "text/plain": [
       "   Q21(I)                             Q21  Q21(count)\n",
       "0       1                 Manje od 2800kn           1\n",
       "1       2                 2800kn - 4900kn           8\n",
       "2       3                 5000kn - 6900kn          17\n",
       "3       4                 7000kn - 8900kn          18\n",
       "4       5                 9000kn - 9900kn           5\n",
       "5       6               10000kn - 12900kn          16\n",
       "6       7               13000kn - 15900kn           9\n",
       "7       8               16000kn - 20000kn           3\n",
       "8       9                  20000kn i više           7\n",
       "9      10  Nisam zaposlen ali freelanceam           5"
      ]
     },
     "metadata": {},
     "output_type": "display_data"
    },
    {
     "data": {
      "image/png": "[encoded data removed]",
      "text/plain": [
       "<matplotlib.figure.Figure at 0x1a2ac27a90>"
      ]
     },
     "metadata": {},
     "output_type": "display_data"
    }
   ],
   "source": [
    "plot_region('GRAD ZAGREB')"
   ]
  },
  {
   "cell_type": "markdown",
   "metadata": {
    "collapsed": true
   },
   "source": [
    "### Osječko-Baranjska"
   ]
  },
  {
   "cell_type": "code",
   "execution_count": 292,
   "metadata": {},
   "outputs": [
    {
     "data": {
      "text/html": [
       "<div>\n",
       "<style>\n",
       "    .dataframe thead tr:only-child th {\n",
       "        text-align: right;\n",
       "    }\n",
       "\n",
       "    .dataframe thead th {\n",
       "        text-align: left;\n",
       "    }\n",
       "\n",
       "    .dataframe tbody tr th {\n",
       "        vertical-align: top;\n",
       "    }\n",
       "</style>\n",
       "<table border=\"1\" class=\"dataframe\">\n",
       "  <thead>\n",
       "    <tr style=\"text-align: right;\">\n",
       "      <th></th>\n",
       "      <th>Q21(I)</th>\n",
       "      <th>Q21</th>\n",
       "      <th>Q21(count)</th>\n",
       "    </tr>\n",
       "  </thead>\n",
       "  <tbody>\n",
       "    <tr>\n",
       "      <th>0</th>\n",
       "      <td>2</td>\n",
       "      <td>2800kn - 4900kn</td>\n",
       "      <td>2</td>\n",
       "    </tr>\n",
       "    <tr>\n",
       "      <th>1</th>\n",
       "      <td>3</td>\n",
       "      <td>5000kn - 6900kn</td>\n",
       "      <td>3</td>\n",
       "    </tr>\n",
       "    <tr>\n",
       "      <th>2</th>\n",
       "      <td>4</td>\n",
       "      <td>7000kn - 8900kn</td>\n",
       "      <td>4</td>\n",
       "    </tr>\n",
       "    <tr>\n",
       "      <th>3</th>\n",
       "      <td>5</td>\n",
       "      <td>9000kn - 9900kn</td>\n",
       "      <td>1</td>\n",
       "    </tr>\n",
       "    <tr>\n",
       "      <th>4</th>\n",
       "      <td>9</td>\n",
       "      <td>20000kn i više</td>\n",
       "      <td>1</td>\n",
       "    </tr>\n",
       "    <tr>\n",
       "      <th>5</th>\n",
       "      <td>10</td>\n",
       "      <td>Nisam zaposlen ali freelanceam</td>\n",
       "      <td>2</td>\n",
       "    </tr>\n",
       "  </tbody>\n",
       "</table>\n",
       "</div>"
      ],
      "text/plain": [
       "   Q21(I)                             Q21  Q21(count)\n",
       "0       2                 2800kn - 4900kn           2\n",
       "1       3                 5000kn - 6900kn           3\n",
       "2       4                 7000kn - 8900kn           4\n",
       "3       5                 9000kn - 9900kn           1\n",
       "4       9                  20000kn i više           1\n",
       "5      10  Nisam zaposlen ali freelanceam           2"
      ]
     },
     "metadata": {},
     "output_type": "display_data"
    },
    {
     "data": {
      "image/png": "[encoded data removed]",
      "text/plain": [
       "<matplotlib.figure.Figure at 0x1a2a383f98>"
      ]
     },
     "metadata": {},
     "output_type": "display_data"
    }
   ],
   "source": [
    "plot_region('OSJEČKO-BARANJSKA')"
   ]
  },
  {
   "cell_type": "markdown",
   "metadata": {},
   "source": [
    "### Splitsko-Dalmatinska"
   ]
  },
  {
   "cell_type": "code",
   "execution_count": 293,
   "metadata": {},
   "outputs": [
    {
     "data": {
      "text/html": [
       "<div>\n",
       "<style>\n",
       "    .dataframe thead tr:only-child th {\n",
       "        text-align: right;\n",
       "    }\n",
       "\n",
       "    .dataframe thead th {\n",
       "        text-align: left;\n",
       "    }\n",
       "\n",
       "    .dataframe tbody tr th {\n",
       "        vertical-align: top;\n",
       "    }\n",
       "</style>\n",
       "<table border=\"1\" class=\"dataframe\">\n",
       "  <thead>\n",
       "    <tr style=\"text-align: right;\">\n",
       "      <th></th>\n",
       "      <th>Q21(I)</th>\n",
       "      <th>Q21</th>\n",
       "      <th>Q21(count)</th>\n",
       "    </tr>\n",
       "  </thead>\n",
       "  <tbody>\n",
       "    <tr>\n",
       "      <th>0</th>\n",
       "      <td>2</td>\n",
       "      <td>2800kn - 4900kn</td>\n",
       "      <td>1</td>\n",
       "    </tr>\n",
       "    <tr>\n",
       "      <th>1</th>\n",
       "      <td>4</td>\n",
       "      <td>7000kn - 8900kn</td>\n",
       "      <td>2</td>\n",
       "    </tr>\n",
       "    <tr>\n",
       "      <th>2</th>\n",
       "      <td>5</td>\n",
       "      <td>9000kn - 9900kn</td>\n",
       "      <td>1</td>\n",
       "    </tr>\n",
       "    <tr>\n",
       "      <th>3</th>\n",
       "      <td>6</td>\n",
       "      <td>10000kn - 12900kn</td>\n",
       "      <td>1</td>\n",
       "    </tr>\n",
       "    <tr>\n",
       "      <th>4</th>\n",
       "      <td>7</td>\n",
       "      <td>13000kn - 15900kn</td>\n",
       "      <td>1</td>\n",
       "    </tr>\n",
       "    <tr>\n",
       "      <th>5</th>\n",
       "      <td>10</td>\n",
       "      <td>Nisam zaposlen ali freelanceam</td>\n",
       "      <td>1</td>\n",
       "    </tr>\n",
       "  </tbody>\n",
       "</table>\n",
       "</div>"
      ],
      "text/plain": [
       "   Q21(I)                             Q21  Q21(count)\n",
       "0       2                 2800kn - 4900kn           1\n",
       "1       4                 7000kn - 8900kn           2\n",
       "2       5                 9000kn - 9900kn           1\n",
       "3       6               10000kn - 12900kn           1\n",
       "4       7               13000kn - 15900kn           1\n",
       "5      10  Nisam zaposlen ali freelanceam           1"
      ]
     },
     "metadata": {},
     "output_type": "display_data"
    },
    {
     "data": {
      "image/png": "[encoded data removed]",
      "text/plain": [
       "<matplotlib.figure.Figure at 0x1a29c67320>"
      ]
     },
     "metadata": {},
     "output_type": "display_data"
    }
   ],
   "source": [
    "plot_region('SPLITSKO-DALMATINSKA')"
   ]
  },
  {
   "cell_type": "markdown",
   "metadata": {},
   "source": [
    "### Zagrebacka"
   ]
  },
  {
   "cell_type": "code",
   "execution_count": 294,
   "metadata": {},
   "outputs": [
    {
     "data": {
      "text/html": [
       "<div>\n",
       "<style>\n",
       "    .dataframe thead tr:only-child th {\n",
       "        text-align: right;\n",
       "    }\n",
       "\n",
       "    .dataframe thead th {\n",
       "        text-align: left;\n",
       "    }\n",
       "\n",
       "    .dataframe tbody tr th {\n",
       "        vertical-align: top;\n",
       "    }\n",
       "</style>\n",
       "<table border=\"1\" class=\"dataframe\">\n",
       "  <thead>\n",
       "    <tr style=\"text-align: right;\">\n",
       "      <th></th>\n",
       "      <th>Q21(I)</th>\n",
       "      <th>Q21</th>\n",
       "      <th>Q21(count)</th>\n",
       "    </tr>\n",
       "  </thead>\n",
       "  <tbody>\n",
       "    <tr>\n",
       "      <th>0</th>\n",
       "      <td>0</td>\n",
       "      <td>Trenutno nisam zaposlen</td>\n",
       "      <td>1</td>\n",
       "    </tr>\n",
       "    <tr>\n",
       "      <th>1</th>\n",
       "      <td>2</td>\n",
       "      <td>2800kn - 4900kn</td>\n",
       "      <td>1</td>\n",
       "    </tr>\n",
       "    <tr>\n",
       "      <th>2</th>\n",
       "      <td>3</td>\n",
       "      <td>5000kn - 6900kn</td>\n",
       "      <td>7</td>\n",
       "    </tr>\n",
       "    <tr>\n",
       "      <th>3</th>\n",
       "      <td>4</td>\n",
       "      <td>7000kn - 8900kn</td>\n",
       "      <td>7</td>\n",
       "    </tr>\n",
       "    <tr>\n",
       "      <th>4</th>\n",
       "      <td>5</td>\n",
       "      <td>9000kn - 9900kn</td>\n",
       "      <td>1</td>\n",
       "    </tr>\n",
       "    <tr>\n",
       "      <th>5</th>\n",
       "      <td>6</td>\n",
       "      <td>10000kn - 12900kn</td>\n",
       "      <td>1</td>\n",
       "    </tr>\n",
       "    <tr>\n",
       "      <th>6</th>\n",
       "      <td>9</td>\n",
       "      <td>20000kn i više</td>\n",
       "      <td>6</td>\n",
       "    </tr>\n",
       "  </tbody>\n",
       "</table>\n",
       "</div>"
      ],
      "text/plain": [
       "   Q21(I)                      Q21  Q21(count)\n",
       "0       0  Trenutno nisam zaposlen           1\n",
       "1       2          2800kn - 4900kn           1\n",
       "2       3          5000kn - 6900kn           7\n",
       "3       4          7000kn - 8900kn           7\n",
       "4       5          9000kn - 9900kn           1\n",
       "5       6        10000kn - 12900kn           1\n",
       "6       9           20000kn i više           6"
      ]
     },
     "metadata": {},
     "output_type": "display_data"
    },
    {
     "data": {
      "image/png": "[encoded data removed]",
      "text/plain": [
       "<matplotlib.figure.Figure at 0x1a29b639e8>"
      ]
     },
     "metadata": {},
     "output_type": "display_data"
    }
   ],
   "source": [
    "plot_region('ZAGREBAČKA')"
   ]
  },
  {
   "cell_type": "markdown",
   "metadata": {},
   "source": [
    "## By Age"
   ]
  },
  {
   "cell_type": "code",
   "execution_count": 307,
   "metadata": {
    "collapsed": true
   },
   "outputs": [],
   "source": [
    "# Add helper indexes\n",
    "professional_age_keys = {'manje od 1 godine':0, '2 - 3 godine':1, '4 - 7 godina':2, '8 - 10 godina':3, '11 - 20 godina':4, 'više od 20 godina':5}\n",
    "df['Q1(I)'] = df['Q1'].replace(professional_age_keys)\n",
    "\n",
    "position_age_keys = {'manje od 1 godine':0, '2-5 godina':1, '6-10 godina':2, '11-20 godina':3}\n",
    "df['Q10(I)'] = df['Q10'].replace(position_age_keys)"
   ]
  },
  {
   "cell_type": "code",
   "execution_count": 310,
   "metadata": {},
   "outputs": [],
   "source": [
    "by_age = df.groupby('Q4').count().iloc[:,1].reset_index(name='Q4(count)')\n",
    "professional_age = df.groupby(['Q1', 'Q1(I)']).count().iloc[:,1].reset_index(name='Q1(count)')\n",
    "position_age = df.groupby(['Q10', 'Q10(I)']).count().iloc[:,1].reset_index(name='Q10(count)')"
   ]
  },
  {
   "cell_type": "markdown",
   "metadata": {},
   "source": [
    "### Q4: Koliko godina imate?"
   ]
  },
  {
   "cell_type": "code",
   "execution_count": 303,
   "metadata": {},
   "outputs": [
    {
     "data": {
      "text/html": [
       "<div>\n",
       "<style>\n",
       "    .dataframe thead tr:only-child th {\n",
       "        text-align: right;\n",
       "    }\n",
       "\n",
       "    .dataframe thead th {\n",
       "        text-align: left;\n",
       "    }\n",
       "\n",
       "    .dataframe tbody tr th {\n",
       "        vertical-align: top;\n",
       "    }\n",
       "</style>\n",
       "<table border=\"1\" class=\"dataframe\">\n",
       "  <thead>\n",
       "    <tr style=\"text-align: right;\">\n",
       "      <th></th>\n",
       "      <th>Q4</th>\n",
       "      <th>Q4(count)</th>\n",
       "    </tr>\n",
       "  </thead>\n",
       "  <tbody>\n",
       "    <tr>\n",
       "      <th>0</th>\n",
       "      <td>18-20</td>\n",
       "      <td>2</td>\n",
       "    </tr>\n",
       "    <tr>\n",
       "      <th>1</th>\n",
       "      <td>22-25</td>\n",
       "      <td>11</td>\n",
       "    </tr>\n",
       "    <tr>\n",
       "      <th>2</th>\n",
       "      <td>26-30</td>\n",
       "      <td>62</td>\n",
       "    </tr>\n",
       "    <tr>\n",
       "      <th>3</th>\n",
       "      <td>31-35</td>\n",
       "      <td>41</td>\n",
       "    </tr>\n",
       "    <tr>\n",
       "      <th>4</th>\n",
       "      <td>36-40</td>\n",
       "      <td>26</td>\n",
       "    </tr>\n",
       "    <tr>\n",
       "      <th>5</th>\n",
       "      <td>41-45</td>\n",
       "      <td>11</td>\n",
       "    </tr>\n",
       "    <tr>\n",
       "      <th>6</th>\n",
       "      <td>46-50</td>\n",
       "      <td>8</td>\n",
       "    </tr>\n",
       "  </tbody>\n",
       "</table>\n",
       "</div>"
      ],
      "text/plain": [
       "      Q4  Q4(count)\n",
       "0  18-20          2\n",
       "1  22-25         11\n",
       "2  26-30         62\n",
       "3  31-35         41\n",
       "4  36-40         26\n",
       "5  41-45         11\n",
       "6  46-50          8"
      ]
     },
     "metadata": {},
     "output_type": "display_data"
    },
    {
     "data": {
      "text/plain": [
       "<matplotlib.axes._subplots.AxesSubplot at 0x1a215a3208>"
      ]
     },
     "execution_count": 303,
     "metadata": {},
     "output_type": "execute_result"
    },
    {
     "data": {
      "image/png": "[encoded data removed]",
      "text/plain": [
       "<matplotlib.figure.Figure at 0x1a28b82e48>"
      ]
     },
     "metadata": {},
     "output_type": "display_data"
    }
   ],
   "source": [
    "# Age distribution\n",
    "display(by_age)\n",
    "by_age.set_index('Q4').plot(kind='bar')"
   ]
  },
  {
   "cell_type": "markdown",
   "metadata": {},
   "source": [
    "### Q1: Koliko se godina profesionalno bavite digitalnim produktima?"
   ]
  },
  {
   "cell_type": "code",
   "execution_count": 304,
   "metadata": {},
   "outputs": [
    {
     "data": {
      "text/html": [
       "<div>\n",
       "<style>\n",
       "    .dataframe thead tr:only-child th {\n",
       "        text-align: right;\n",
       "    }\n",
       "\n",
       "    .dataframe thead th {\n",
       "        text-align: left;\n",
       "    }\n",
       "\n",
       "    .dataframe tbody tr th {\n",
       "        vertical-align: top;\n",
       "    }\n",
       "</style>\n",
       "<table border=\"1\" class=\"dataframe\">\n",
       "  <thead>\n",
       "    <tr style=\"text-align: right;\">\n",
       "      <th></th>\n",
       "      <th>Q1</th>\n",
       "      <th>Q1(I)</th>\n",
       "      <th>Q1(count)</th>\n",
       "    </tr>\n",
       "  </thead>\n",
       "  <tbody>\n",
       "    <tr>\n",
       "      <th>4</th>\n",
       "      <td>manje od 1 godine</td>\n",
       "      <td>0</td>\n",
       "      <td>9</td>\n",
       "    </tr>\n",
       "    <tr>\n",
       "      <th>1</th>\n",
       "      <td>2 - 3 godine</td>\n",
       "      <td>1</td>\n",
       "      <td>41</td>\n",
       "    </tr>\n",
       "    <tr>\n",
       "      <th>2</th>\n",
       "      <td>4 - 7 godina</td>\n",
       "      <td>2</td>\n",
       "      <td>41</td>\n",
       "    </tr>\n",
       "    <tr>\n",
       "      <th>3</th>\n",
       "      <td>8 - 10 godina</td>\n",
       "      <td>3</td>\n",
       "      <td>27</td>\n",
       "    </tr>\n",
       "    <tr>\n",
       "      <th>0</th>\n",
       "      <td>11 - 20 godina</td>\n",
       "      <td>4</td>\n",
       "      <td>40</td>\n",
       "    </tr>\n",
       "    <tr>\n",
       "      <th>5</th>\n",
       "      <td>više od 20 godina</td>\n",
       "      <td>5</td>\n",
       "      <td>3</td>\n",
       "    </tr>\n",
       "  </tbody>\n",
       "</table>\n",
       "</div>"
      ],
      "text/plain": [
       "                  Q1  Q1(I)  Q1(count)\n",
       "4  manje od 1 godine      0          9\n",
       "1       2 - 3 godine      1         41\n",
       "2       4 - 7 godina      2         41\n",
       "3      8 - 10 godina      3         27\n",
       "0     11 - 20 godina      4         40\n",
       "5  više od 20 godina      5          3"
      ]
     },
     "metadata": {},
     "output_type": "display_data"
    },
    {
     "data": {
      "text/plain": [
       "<matplotlib.axes._subplots.AxesSubplot at 0x1a215aa5f8>"
      ]
     },
     "execution_count": 304,
     "metadata": {},
     "output_type": "execute_result"
    },
    {
     "data": {
      "image/png": "[encoded data removed]",
      "text/plain": [
       "<matplotlib.figure.Figure at 0x1a215bc2b0>"
      ]
     },
     "metadata": {},
     "output_type": "display_data"
    }
   ],
   "source": [
    "# Professional age distribution\n",
    "professional_age.sort_values(by='Q1(I)', inplace=True)\n",
    "\n",
    "display(professional_age)\n",
    "professional_age.set_index('Q1')['Q1(count)'].plot(kind='bar')"
   ]
  },
  {
   "cell_type": "markdown",
   "metadata": {},
   "source": [
    "### Q10: Koliko godina radite na trenutnoj poziciji?"
   ]
  },
  {
   "cell_type": "code",
   "execution_count": 313,
   "metadata": {},
   "outputs": [
    {
     "data": {
      "text/html": [
       "<div>\n",
       "<style>\n",
       "    .dataframe thead tr:only-child th {\n",
       "        text-align: right;\n",
       "    }\n",
       "\n",
       "    .dataframe thead th {\n",
       "        text-align: left;\n",
       "    }\n",
       "\n",
       "    .dataframe tbody tr th {\n",
       "        vertical-align: top;\n",
       "    }\n",
       "</style>\n",
       "<table border=\"1\" class=\"dataframe\">\n",
       "  <thead>\n",
       "    <tr style=\"text-align: right;\">\n",
       "      <th></th>\n",
       "      <th>Q10</th>\n",
       "      <th>Q10(I)</th>\n",
       "      <th>Q10(count)</th>\n",
       "    </tr>\n",
       "  </thead>\n",
       "  <tbody>\n",
       "    <tr>\n",
       "      <th>3</th>\n",
       "      <td>manje od 1 godine</td>\n",
       "      <td>0</td>\n",
       "      <td>37</td>\n",
       "    </tr>\n",
       "    <tr>\n",
       "      <th>1</th>\n",
       "      <td>2-5 godina</td>\n",
       "      <td>1</td>\n",
       "      <td>74</td>\n",
       "    </tr>\n",
       "    <tr>\n",
       "      <th>2</th>\n",
       "      <td>6-10 godina</td>\n",
       "      <td>2</td>\n",
       "      <td>36</td>\n",
       "    </tr>\n",
       "    <tr>\n",
       "      <th>0</th>\n",
       "      <td>11-20 godina</td>\n",
       "      <td>3</td>\n",
       "      <td>14</td>\n",
       "    </tr>\n",
       "  </tbody>\n",
       "</table>\n",
       "</div>"
      ],
      "text/plain": [
       "                 Q10  Q10(I)  Q10(count)\n",
       "3  manje od 1 godine       0          37\n",
       "1         2-5 godina       1          74\n",
       "2        6-10 godina       2          36\n",
       "0       11-20 godina       3          14"
      ]
     },
     "metadata": {},
     "output_type": "display_data"
    },
    {
     "data": {
      "text/plain": [
       "<matplotlib.axes._subplots.AxesSubplot at 0x1a26fc1b38>"
      ]
     },
     "execution_count": 313,
     "metadata": {},
     "output_type": "execute_result"
    },
    {
     "data": {
      "image/png": "[encoded data removed]",
      "text/plain": [
       "<matplotlib.figure.Figure at 0x1a26e0bb00>"
      ]
     },
     "metadata": {},
     "output_type": "display_data"
    }
   ],
   "source": [
    "# Current position distribution\n",
    "position_age.sort_values(by='Q10(I)', inplace=True)\n",
    "\n",
    "display(position_age)\n",
    "position_age.set_index('Q10')['Q10(count)'].plot(kind='bar')"
   ]
  },
  {
   "cell_type": "markdown",
   "metadata": {},
   "source": [
    "### Interensting age correlations"
   ]
  },
  {
   "cell_type": "markdown",
   "metadata": {},
   "source": [
    "#### Salary by age"
   ]
  },
  {
   "cell_type": "code",
   "execution_count": 423,
   "metadata": {},
   "outputs": [
    {
     "data": {
      "text/plain": [
       "Q21(I)  Q21                             Q4   \n",
       "0       Trenutno nisam zaposlen         26-30     1\n",
       "1       Manje od 2800kn                 26-30     1\n",
       "2       2800kn - 4900kn                 22-25     4\n",
       "                                        26-30     7\n",
       "                                        31-35     2\n",
       "                                        36-40     1\n",
       "                                        41-45     1\n",
       "                                        46-50     1\n",
       "3       5000kn - 6900kn                 22-25     3\n",
       "                                        26-30    22\n",
       "                                        31-35     6\n",
       "                                        36-40     3\n",
       "                                        41-45     2\n",
       "4       7000kn - 8900kn                 22-25     2\n",
       "                                        26-30    16\n",
       "                                        31-35    10\n",
       "                                        36-40     3\n",
       "                                        41-45     1\n",
       "                                        46-50     1\n",
       "5       9000kn - 9900kn                 22-25     1\n",
       "                                        26-30     3\n",
       "                                        31-35     1\n",
       "                                        36-40     4\n",
       "6       10000kn - 12900kn               26-30     4\n",
       "                                        31-35     5\n",
       "                                        36-40     7\n",
       "                                        41-45     2\n",
       "                                        46-50     2\n",
       "7       13000kn - 15900kn               22-25     1\n",
       "                                        26-30     4\n",
       "                                        31-35     5\n",
       "                                        36-40     1\n",
       "8       16000kn - 20000kn               31-35     2\n",
       "                                        36-40     2\n",
       "                                        41-45     1\n",
       "                                        46-50     2\n",
       "9       20000kn i više                  26-30     3\n",
       "                                        31-35     6\n",
       "                                        36-40     3\n",
       "                                        41-45     2\n",
       "                                        46-50     1\n",
       "10      Nisam zaposlen ali freelanceam  18-20     2\n",
       "                                        26-30     1\n",
       "                                        31-35     4\n",
       "                                        36-40     2\n",
       "                                        41-45     2\n",
       "                                        46-50     1\n",
       "Name: Q1, dtype: int64"
      ]
     },
     "execution_count": 423,
     "metadata": {},
     "output_type": "execute_result"
    }
   ],
   "source": [
    "# @TODO need to display relative group data (inside the group) \n",
    "salary_by_age_display = df.groupby(['Q21(I)', 'Q21', 'Q4']).count().iloc[:,1]\n",
    "salary_by_age_display"
   ]
  },
  {
   "cell_type": "code",
   "execution_count": 437,
   "metadata": {},
   "outputs": [
    {
     "data": {
      "text/plain": [
       "<matplotlib.axes._subplots.AxesSubplot at 0x1a382ef7f0>"
      ]
     },
     "execution_count": 437,
     "metadata": {},
     "output_type": "execute_result"
    },
    {
     "data": {
      "image/png": "[encoded data removed]",
      "text/plain": [
       "<matplotlib.figure.Figure at 0x1a3743b588>"
      ]
     },
     "metadata": {},
     "output_type": "display_data"
    }
   ],
   "source": [
    "# @TODO: need to find a better colormap: https://matplotlib.org/tutorials/colors/colormaps.html\n",
    "salary_by_age = df.groupby(['Q21(I)', 'Q21', 'Q4']).count().iloc[:,1]\n",
    "salary_by_age_graph = salary_by_age.unstack(level=-1, fill_value=0)\n",
    "salary_by_age_graph.plot(kind='bar', figsize=(18, 8), colormap='cool', width=0.8)"
   ]
  },
  {
   "cell_type": "markdown",
   "metadata": {},
   "source": [
    "#### Age by salary"
   ]
  },
  {
   "cell_type": "code",
   "execution_count": 438,
   "metadata": {},
   "outputs": [
    {
     "data": {
      "text/plain": [
       "Q4     Q21(I)  Q21                           \n",
       "18-20  10      Nisam zaposlen ali freelanceam     2\n",
       "22-25  2       2800kn - 4900kn                    4\n",
       "       3       5000kn - 6900kn                    3\n",
       "       4       7000kn - 8900kn                    2\n",
       "       5       9000kn - 9900kn                    1\n",
       "       7       13000kn - 15900kn                  1\n",
       "26-30  0       Trenutno nisam zaposlen            1\n",
       "       1       Manje od 2800kn                    1\n",
       "       2       2800kn - 4900kn                    7\n",
       "       3       5000kn - 6900kn                   22\n",
       "       4       7000kn - 8900kn                   16\n",
       "       5       9000kn - 9900kn                    3\n",
       "       6       10000kn - 12900kn                  4\n",
       "       7       13000kn - 15900kn                  4\n",
       "       9       20000kn i više                     3\n",
       "       10      Nisam zaposlen ali freelanceam     1\n",
       "31-35  2       2800kn - 4900kn                    2\n",
       "       3       5000kn - 6900kn                    6\n",
       "       4       7000kn - 8900kn                   10\n",
       "       5       9000kn - 9900kn                    1\n",
       "       6       10000kn - 12900kn                  5\n",
       "       7       13000kn - 15900kn                  5\n",
       "       8       16000kn - 20000kn                  2\n",
       "       9       20000kn i više                     6\n",
       "       10      Nisam zaposlen ali freelanceam     4\n",
       "36-40  2       2800kn - 4900kn                    1\n",
       "       3       5000kn - 6900kn                    3\n",
       "       4       7000kn - 8900kn                    3\n",
       "       5       9000kn - 9900kn                    4\n",
       "       6       10000kn - 12900kn                  7\n",
       "       7       13000kn - 15900kn                  1\n",
       "       8       16000kn - 20000kn                  2\n",
       "       9       20000kn i više                     3\n",
       "       10      Nisam zaposlen ali freelanceam     2\n",
       "41-45  2       2800kn - 4900kn                    1\n",
       "       3       5000kn - 6900kn                    2\n",
       "       4       7000kn - 8900kn                    1\n",
       "       6       10000kn - 12900kn                  2\n",
       "       8       16000kn - 20000kn                  1\n",
       "       9       20000kn i više                     2\n",
       "       10      Nisam zaposlen ali freelanceam     2\n",
       "46-50  2       2800kn - 4900kn                    1\n",
       "       4       7000kn - 8900kn                    1\n",
       "       6       10000kn - 12900kn                  2\n",
       "       8       16000kn - 20000kn                  2\n",
       "       9       20000kn i više                     1\n",
       "       10      Nisam zaposlen ali freelanceam     1\n",
       "Name: Q1, dtype: int64"
      ]
     },
     "execution_count": 438,
     "metadata": {},
     "output_type": "execute_result"
    }
   ],
   "source": [
    "age_by_salary_display = df.groupby(['Q4', 'Q21(I)', 'Q21']).count().iloc[:,1]\n",
    "age_by_salary_display"
   ]
  },
  {
   "cell_type": "code",
   "execution_count": 447,
   "metadata": {},
   "outputs": [
    {
     "data": {
      "text/plain": [
       "<matplotlib.axes._subplots.AxesSubplot at 0x1a3a00cba8>"
      ]
     },
     "execution_count": 447,
     "metadata": {},
     "output_type": "execute_result"
    },
    {
     "data": {
      "image/png": "[encoded data removed]",
      "text/plain": [
       "<matplotlib.figure.Figure at 0x1a39a5ad30>"
      ]
     },
     "metadata": {},
     "output_type": "display_data"
    }
   ],
   "source": [
    "# @TODO: need to find a better colormap: https://matplotlib.org/tutorials/colors/colormaps.html\n",
    "age_by_salary = df.groupby(['Q4', 'Q21(I)']).count().iloc[:,1]\n",
    "age_by_salary_graph = age_by_salary.unstack(level=-1, fill_value=0)\n",
    "age_by_salary_graph.plot(kind='bar', figsize=(18, 8), colormap='cool', width=0.8)"
   ]
  },
  {
   "cell_type": "markdown",
   "metadata": {},
   "source": [
    "## By workplace happiness"
   ]
  },
  {
   "cell_type": "markdown",
   "metadata": {},
   "source": [
    "Q20: Koliko ste zadovoljni trenutnim poslom?  \n",
    "Q22: Koliko ste zadovoljni mjesečnim prihodima?"
   ]
  },
  {
   "cell_type": "code",
   "execution_count": 478,
   "metadata": {},
   "outputs": [
    {
     "data": {
      "text/html": [
       "<div>\n",
       "<style>\n",
       "    .dataframe thead tr:only-child th {\n",
       "        text-align: right;\n",
       "    }\n",
       "\n",
       "    .dataframe thead th {\n",
       "        text-align: left;\n",
       "    }\n",
       "\n",
       "    .dataframe tbody tr th {\n",
       "        vertical-align: top;\n",
       "    }\n",
       "</style>\n",
       "<table border=\"1\" class=\"dataframe\">\n",
       "  <thead>\n",
       "    <tr style=\"text-align: right;\">\n",
       "      <th></th>\n",
       "      <th>Q20</th>\n",
       "      <th>count</th>\n",
       "    </tr>\n",
       "  </thead>\n",
       "  <tbody>\n",
       "    <tr>\n",
       "      <th>0</th>\n",
       "      <td>1</td>\n",
       "      <td>2</td>\n",
       "    </tr>\n",
       "    <tr>\n",
       "      <th>1</th>\n",
       "      <td>2</td>\n",
       "      <td>9</td>\n",
       "    </tr>\n",
       "    <tr>\n",
       "      <th>2</th>\n",
       "      <td>3</td>\n",
       "      <td>30</td>\n",
       "    </tr>\n",
       "    <tr>\n",
       "      <th>3</th>\n",
       "      <td>4</td>\n",
       "      <td>79</td>\n",
       "    </tr>\n",
       "    <tr>\n",
       "      <th>4</th>\n",
       "      <td>5</td>\n",
       "      <td>41</td>\n",
       "    </tr>\n",
       "  </tbody>\n",
       "</table>\n",
       "</div>"
      ],
      "text/plain": [
       "   Q20  count\n",
       "0    1      2\n",
       "1    2      9\n",
       "2    3     30\n",
       "3    4     79\n",
       "4    5     41"
      ]
     },
     "metadata": {},
     "output_type": "display_data"
    },
    {
     "data": {
      "text/plain": [
       "<matplotlib.axes._subplots.AxesSubplot at 0x1a2f28dba8>"
      ]
     },
     "execution_count": 478,
     "metadata": {},
     "output_type": "execute_result"
    },
    {
     "data": {
      "image/png": "[encoded data removed]",
      "text/plain": [
       "<matplotlib.figure.Figure at 0x1a2f27e400>"
      ]
     },
     "metadata": {},
     "output_type": "display_data"
    }
   ],
   "source": [
    "happiness = df.groupby('Q20').count().iloc[:,1].reset_index(name='count')\n",
    "display(happiness)\n",
    "happiness.set_index('Q20')['count'].plot.bar()"
   ]
  },
  {
   "cell_type": "code",
   "execution_count": 512,
   "metadata": {},
   "outputs": [
    {
     "name": "stdout",
     "output_type": "stream",
     "text": [
      "In general happiness score is: 3.919254658385093 , while females report the score of: 3.7017543859649122 , and males report the score of: 4.029411764705882  (pvalue =  0.0719533811761 )\n"
     ]
    }
   ],
   "source": [
    "happiness_general = df['Q20'].mean()\n",
    "happiness_female = female['Q20'].mean()\n",
    "happiness_male = male['Q20'].mean()\n",
    "p_value_happiness_by_gender = sp.stats.ranksums(female['Q20'], male['Q20']).pvalue\n",
    "\n",
    "print('In general happiness score is:', happiness_general, ', while females report the score of:', happiness_female, ', and males report the score of:', happiness_male, ' (pvalue = ', p_value_happiness_by_gender,')')"
   ]
  },
  {
   "cell_type": "code",
   "execution_count": null,
   "metadata": {},
   "outputs": [],
   "source": []
  },
  {
   "cell_type": "code",
   "execution_count": null,
   "metadata": {
    "collapsed": true
   },
   "outputs": [],
   "source": []
  }
 ],
 "metadata": {
  "kernelspec": {
   "display_name": "Python 3",
   "language": "python",
   "name": "python3"
  },
  "language_info": {
   "codemirror_mode": {
    "name": "ipython",
    "version": 3
   },
   "file_extension": ".py",
   "mimetype": "text/x-python",
   "name": "python",
   "nbconvert_exporter": "python",
   "pygments_lexer": "ipython3",
   "version": "3.6.3"
  }
 },
 "nbformat": 4,
 "nbformat_minor": 2
}
