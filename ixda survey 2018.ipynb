{
 "cells": [
  {
   "cell_type": "code",
   "execution_count": 238,
   "metadata": {
    "collapsed": true
   },
   "outputs": [],
   "source": [
    "# Imports\n",
    "import numpy as np\n",
    "import pandas as pd\n",
    "from pandas import Series, DataFrame\n",
    "\n",
    "import scipy as sp\n",
    "import scipy.stats\n",
    "\n",
    "import matplotlib.pyplot as plt\n",
    "%matplotlib inline "
   ]
  },
  {
   "cell_type": "code",
   "execution_count": 229,
   "metadata": {
    "collapsed": true
   },
   "outputs": [],
   "source": [
    "# Get data\n",
    "df = pd.read_csv(\"data.csv\")"
   ]
  },
  {
   "cell_type": "code",
   "execution_count": 230,
   "metadata": {
    "collapsed": true
   },
   "outputs": [],
   "source": [
    "# Display data helper function\n",
    "def display_data(data):\n",
    "    with pd.option_context('display.max_rows', None, 'display.max_columns', None):\n",
    "        display(data)"
   ]
  },
  {
   "cell_type": "code",
   "execution_count": 231,
   "metadata": {},
   "outputs": [
    {
     "data": {
      "text/html": [
       "<div>\n",
       "<style>\n",
       "    .dataframe thead tr:only-child th {\n",
       "        text-align: right;\n",
       "    }\n",
       "\n",
       "    .dataframe thead th {\n",
       "        text-align: left;\n",
       "    }\n",
       "\n",
       "    .dataframe tbody tr th {\n",
       "        vertical-align: top;\n",
       "    }\n",
       "</style>\n",
       "<table border=\"1\" class=\"dataframe\">\n",
       "  <thead>\n",
       "    <tr style=\"text-align: right;\">\n",
       "      <th></th>\n",
       "      <th>Timestamp</th>\n",
       "      <th>Q1</th>\n",
       "      <th>Q2</th>\n",
       "      <th>Q3</th>\n",
       "      <th>Q4</th>\n",
       "      <th>Q5</th>\n",
       "      <th>Q6</th>\n",
       "      <th>Q7</th>\n",
       "      <th>Q8</th>\n",
       "      <th>Q9</th>\n",
       "      <th>Q10</th>\n",
       "      <th>Q11</th>\n",
       "      <th>Q12</th>\n",
       "      <th>Q13</th>\n",
       "      <th>Q14</th>\n",
       "      <th>Q15</th>\n",
       "      <th>Q16</th>\n",
       "      <th>Q17-1</th>\n",
       "      <th>Q17-2</th>\n",
       "      <th>Q17-3</th>\n",
       "      <th>Q17-4</th>\n",
       "      <th>Q18</th>\n",
       "      <th>Q19-1</th>\n",
       "      <th>Q19-2</th>\n",
       "      <th>Q19-3</th>\n",
       "      <th>Q19-4</th>\n",
       "      <th>Q19-5</th>\n",
       "      <th>Q19-6</th>\n",
       "      <th>Q19-7</th>\n",
       "      <th>Q19-8</th>\n",
       "      <th>Q19-9</th>\n",
       "      <th>Q20</th>\n",
       "      <th>Q21</th>\n",
       "      <th>Q22</th>\n",
       "      <th>Q23</th>\n",
       "      <th>Q24</th>\n",
       "      <th>Q25</th>\n",
       "      <th>Q26</th>\n",
       "      <th>Q27</th>\n",
       "      <th>Q28-1</th>\n",
       "      <th>Q28-2</th>\n",
       "      <th>Q28-3</th>\n",
       "      <th>Q28-4</th>\n",
       "      <th>Q28-5</th>\n",
       "      <th>Q28-6</th>\n",
       "      <th>Q28-7</th>\n",
       "      <th>Q28-8</th>\n",
       "      <th>Q28-9</th>\n",
       "      <th>Q28-10</th>\n",
       "      <th>Q28-11</th>\n",
       "      <th>Q29</th>\n",
       "      <th>Q30</th>\n",
       "      <th>Q31</th>\n",
       "      <th>Q32</th>\n",
       "      <th>Q33</th>\n",
       "    </tr>\n",
       "  </thead>\n",
       "  <tbody>\n",
       "    <tr>\n",
       "      <th>1</th>\n",
       "      <td>2018/06/19 9:03:23 AM GMT+2</td>\n",
       "      <td>2 - 3 godine</td>\n",
       "      <td>UX/UI dizajner</td>\n",
       "      <td>Ženski</td>\n",
       "      <td>26-30</td>\n",
       "      <td>GRAD ZAGREB</td>\n",
       "      <td>GRAD ZAGREB</td>\n",
       "      <td>GRF</td>\n",
       "      <td>UX/UI dizajner</td>\n",
       "      <td>4</td>\n",
       "      <td>2-5 godina</td>\n",
       "      <td>Medium Dizajner</td>\n",
       "      <td>Dizajn studio</td>\n",
       "      <td>2-10</td>\n",
       "      <td>Ima jedan dizajn tim</td>\n",
       "      <td>2-5</td>\n",
       "      <td>Mentoriranje</td>\n",
       "      <td>50%</td>\n",
       "      <td>0</td>\n",
       "      <td>50%</td>\n",
       "      <td>0</td>\n",
       "      <td>4 - 8 sata / tjedno</td>\n",
       "      <td>4</td>\n",
       "      <td>4</td>\n",
       "      <td>5</td>\n",
       "      <td>5</td>\n",
       "      <td>5</td>\n",
       "      <td>3</td>\n",
       "      <td>2</td>\n",
       "      <td>2</td>\n",
       "      <td>4</td>\n",
       "      <td>5</td>\n",
       "      <td>5000kn - 6900kn</td>\n",
       "      <td>4</td>\n",
       "      <td>Najčešće u uredu i povremeno remotely</td>\n",
       "      <td>Educiram se samostalno doma;Edukacija je prisu...</td>\n",
       "      <td>UI dizajn;UX dizajn;Programeri</td>\n",
       "      <td>Research;Analiza konkurencije;Persone;Journey ...</td>\n",
       "      <td>Pomoću analitike</td>\n",
       "      <td>Obavezno uključiti</td>\n",
       "      <td>Obavezno uključiti</td>\n",
       "      <td>Obavezno uključiti</td>\n",
       "      <td>Nisu potrebni</td>\n",
       "      <td>Nisu potrebni</td>\n",
       "      <td>Obavezno uključiti</td>\n",
       "      <td>Nisu potrebni</td>\n",
       "      <td>Obavezno uključiti</td>\n",
       "      <td>Nisu potrebni</td>\n",
       "      <td>Nisu potrebni</td>\n",
       "      <td>Nisu potrebni</td>\n",
       "      <td>NaN</td>\n",
       "      <td>NaN</td>\n",
       "      <td>NaN</td>\n",
       "      <td>Prilagodljivost, empatija, analitičnost</td>\n",
       "      <td>Machine learning</td>\n",
       "    </tr>\n",
       "  </tbody>\n",
       "</table>\n",
       "</div>"
      ],
      "text/plain": [
       "                     Timestamp            Q1              Q2      Q3     Q4  \\\n",
       "1  2018/06/19 9:03:23 AM GMT+2  2 - 3 godine  UX/UI dizajner  Ženski  26-30   \n",
       "\n",
       "            Q5           Q6   Q7              Q8  Q9         Q10  \\\n",
       "1  GRAD ZAGREB  GRAD ZAGREB  GRF  UX/UI dizajner   4  2-5 godina   \n",
       "\n",
       "               Q11            Q12   Q13                   Q14  Q15  \\\n",
       "1  Medium Dizajner  Dizajn studio  2-10  Ima jedan dizajn tim  2-5   \n",
       "\n",
       "            Q16 Q17-1 Q17-2 Q17-3 Q17-4                  Q18  Q19-1  Q19-2  \\\n",
       "1  Mentoriranje   50%     0   50%     0  4 - 8 sata / tjedno      4      4   \n",
       "\n",
       "   Q19-3  Q19-4  Q19-5  Q19-6  Q19-7  Q19-8  Q19-9  Q20              Q21  Q22  \\\n",
       "1      5      5      5      3      2      2      4    5  5000kn - 6900kn    4   \n",
       "\n",
       "                                     Q23  \\\n",
       "1  Najčešće u uredu i povremeno remotely   \n",
       "\n",
       "                                                 Q24  \\\n",
       "1  Educiram se samostalno doma;Edukacija je prisu...   \n",
       "\n",
       "                              Q25  \\\n",
       "1  UI dizajn;UX dizajn;Programeri   \n",
       "\n",
       "                                                 Q26               Q27  \\\n",
       "1  Research;Analiza konkurencije;Persone;Journey ...  Pomoću analitike   \n",
       "\n",
       "                Q28-1               Q28-2               Q28-3          Q28-4  \\\n",
       "1  Obavezno uključiti  Obavezno uključiti  Obavezno uključiti  Nisu potrebni   \n",
       "\n",
       "           Q28-5               Q28-6          Q28-7               Q28-8  \\\n",
       "1  Nisu potrebni  Obavezno uključiti  Nisu potrebni  Obavezno uključiti   \n",
       "\n",
       "           Q28-9         Q28-10         Q28-11  Q29  Q30  Q31  \\\n",
       "1  Nisu potrebni  Nisu potrebni  Nisu potrebni  NaN  NaN  NaN   \n",
       "\n",
       "                                       Q32               Q33  \n",
       "1  Prilagodljivost, empatija, analitičnost  Machine learning  "
      ]
     },
     "metadata": {},
     "output_type": "display_data"
    }
   ],
   "source": [
    "# Cleanup - Mark questions as 'QX' for easier future reference\n",
    "columns = df.columns.tolist()\n",
    "answer = 0\n",
    "question = 0\n",
    "\n",
    "for i in range(1, len(columns)):\n",
    "    # Grid questions have option in '[]'\n",
    "    if (columns[i].endswith(']')):\n",
    "        # Check if this is first answer, if so this is a new question\n",
    "        if (answer == 0):\n",
    "            question = question + 1\n",
    "        answer = answer + 1\n",
    "        columns[i] = 'Q' + str(question) + '-' + str(answer)\n",
    "    else:\n",
    "        question = question + 1\n",
    "        answer = 0    \n",
    "        columns[i] = 'Q' + str(question)\n",
    "  \n",
    "df.columns = columns\n",
    "display_data(df[1:2])"
   ]
  },
  {
   "cell_type": "code",
   "execution_count": 232,
   "metadata": {
    "collapsed": true
   },
   "outputs": [],
   "source": [
    "# Helper columns\n",
    "salary_descriptive_keys = {'Trenutno nisam zaposlen':0, 'Manje od 2800kn':1, '2800kn - 4900kn':2, '5000kn - 6900kn':3, '7000kn - 8900kn':4, '9000kn - 9900kn':5, '10000kn - 12900kn':6, '13000kn - 15900kn':7, '16000kn - 20000kn':8, '20000kn i više':9, 'Nisam zaposlen ali freelanceam':10}\n",
    "sorted_salary_descriptive = sorted(salary_descriptive_keys, key=salary_descriptive_keys.get)\n",
    "df['Q21(I)'] = df['Q21'].replace(salary_descriptive_keys)"
   ]
  },
  {
   "cell_type": "markdown",
   "metadata": {},
   "source": [
    "# Segmentation"
   ]
  },
  {
   "cell_type": "markdown",
   "metadata": {},
   "source": [
    "## By Sex"
   ]
  },
  {
   "cell_type": "code",
   "execution_count": 233,
   "metadata": {},
   "outputs": [
    {
     "name": "stdout",
     "output_type": "stream",
     "text": [
      "Survey completed by  60  females,  113  males, and  2  undefined\n"
     ]
    }
   ],
   "source": [
    "# Segments\n",
    "# By Sex\n",
    "female = df[df['Q3']=='Ženski']\n",
    "male = df[df['Q3']=='Muški']\n",
    "\n",
    "num_female = len(female)\n",
    "num_male = len(male)\n",
    "num_undefined = len(df) - num_female - num_male\n",
    "\n",
    "print('Survey completed by ', num_female,' females, ', num_male, ' males, and ', num_undefined, ' undefined')"
   ]
  },
  {
   "cell_type": "code",
   "execution_count": 234,
   "metadata": {},
   "outputs": [
    {
     "data": {
      "text/plain": [
       "Q21(I)  Q21                             Q3    \n",
       "0       Trenutno nisam zaposlen         Ženski     1\n",
       "1       Manje od 2800kn                 Muški      1\n",
       "                                        Ženski     1\n",
       "2       2800kn - 4900kn                 Muški     10\n",
       "                                        Ženski     9\n",
       "3       5000kn - 6900kn                 Muški     21\n",
       "                                        Ženski    16\n",
       "4       7000kn - 8900kn                 Muški     21\n",
       "                                        Ženski    12\n",
       "5       9000kn - 9900kn                 Muški      4\n",
       "                                        Ženski     6\n",
       "6       10000kn - 12900kn               Muški     19\n",
       "                                        Ženski     5\n",
       "7       13000kn - 15900kn               Muški      9\n",
       "                                        Ženski     3\n",
       "8       16000kn - 20000kn               Muški      8\n",
       "9       20000kn i više                  Muški     13\n",
       "                                        Ženski     1\n",
       "10      Nisam zaposlen ali freelanceam  Muški      7\n",
       "                                        Ženski     6\n",
       "Name: Q1, dtype: int64"
      ]
     },
     "metadata": {},
     "output_type": "display_data"
    },
    {
     "data": {
      "text/plain": [
       "<matplotlib.axes._subplots.AxesSubplot at 0x11aac2b38>"
      ]
     },
     "execution_count": 234,
     "metadata": {},
     "output_type": "execute_result"
    },
    {
     "data": {
      "image/png": "[encoded data removed]",
      "text/plain": [
       "<matplotlib.figure.Figure at 0x11a89d588>"
      ]
     },
     "metadata": {},
     "output_type": "display_data"
    }
   ],
   "source": [
    "# Salary\n",
    "# General\n",
    "salary_general = df.groupby(['Q21(I)', 'Q21']).count().iloc[:,1]\n",
    "salary_general_with_sex = df[df.Q3 != \"N/A OR OTHER\"].groupby(['Q21(I)', 'Q21', 'Q3']).count().iloc[:,1]\n",
    "display(salary_general_with_sex)\n",
    "salary_general.plot(kind='bar', label='Q21')"
   ]
  },
  {
   "cell_type": "code",
   "execution_count": 235,
   "metadata": {},
   "outputs": [],
   "source": [
    "# By Sex\n",
    "salary_female = female.groupby(['Q21(I)']).count().iloc[:,1].reset_index(name='Q3(count)')\n",
    "salary_male = male.groupby(['Q21(I)']).count().iloc[:,1].reset_index(name='Q3(count)')"
   ]
  },
  {
   "cell_type": "code",
   "execution_count": 236,
   "metadata": {},
   "outputs": [
    {
     "data": {
      "text/html": [
       "<div>\n",
       "<style>\n",
       "    .dataframe thead tr:only-child th {\n",
       "        text-align: right;\n",
       "    }\n",
       "\n",
       "    .dataframe thead th {\n",
       "        text-align: left;\n",
       "    }\n",
       "\n",
       "    .dataframe tbody tr th {\n",
       "        vertical-align: top;\n",
       "    }\n",
       "</style>\n",
       "<table border=\"1\" class=\"dataframe\">\n",
       "  <thead>\n",
       "    <tr style=\"text-align: right;\">\n",
       "      <th></th>\n",
       "      <th>Q21(I)</th>\n",
       "      <th>Q3(count)_female</th>\n",
       "      <th>Q3(rel)_female</th>\n",
       "      <th>Q3(count)_male</th>\n",
       "      <th>Q3(rel)_male</th>\n",
       "    </tr>\n",
       "  </thead>\n",
       "  <tbody>\n",
       "    <tr>\n",
       "      <th>0</th>\n",
       "      <td>0</td>\n",
       "      <td>1.0</td>\n",
       "      <td>1.666667</td>\n",
       "      <td>0.0</td>\n",
       "      <td>0.000000</td>\n",
       "    </tr>\n",
       "    <tr>\n",
       "      <th>1</th>\n",
       "      <td>1</td>\n",
       "      <td>1.0</td>\n",
       "      <td>1.666667</td>\n",
       "      <td>1.0</td>\n",
       "      <td>0.884956</td>\n",
       "    </tr>\n",
       "    <tr>\n",
       "      <th>2</th>\n",
       "      <td>2</td>\n",
       "      <td>9.0</td>\n",
       "      <td>15.000000</td>\n",
       "      <td>10.0</td>\n",
       "      <td>8.849558</td>\n",
       "    </tr>\n",
       "    <tr>\n",
       "      <th>3</th>\n",
       "      <td>3</td>\n",
       "      <td>16.0</td>\n",
       "      <td>26.666667</td>\n",
       "      <td>21.0</td>\n",
       "      <td>18.584071</td>\n",
       "    </tr>\n",
       "    <tr>\n",
       "      <th>4</th>\n",
       "      <td>4</td>\n",
       "      <td>12.0</td>\n",
       "      <td>20.000000</td>\n",
       "      <td>21.0</td>\n",
       "      <td>18.584071</td>\n",
       "    </tr>\n",
       "    <tr>\n",
       "      <th>5</th>\n",
       "      <td>5</td>\n",
       "      <td>6.0</td>\n",
       "      <td>10.000000</td>\n",
       "      <td>4.0</td>\n",
       "      <td>3.539823</td>\n",
       "    </tr>\n",
       "    <tr>\n",
       "      <th>6</th>\n",
       "      <td>6</td>\n",
       "      <td>5.0</td>\n",
       "      <td>8.333333</td>\n",
       "      <td>19.0</td>\n",
       "      <td>16.814159</td>\n",
       "    </tr>\n",
       "    <tr>\n",
       "      <th>7</th>\n",
       "      <td>7</td>\n",
       "      <td>3.0</td>\n",
       "      <td>5.000000</td>\n",
       "      <td>9.0</td>\n",
       "      <td>7.964602</td>\n",
       "    </tr>\n",
       "    <tr>\n",
       "      <th>10</th>\n",
       "      <td>8</td>\n",
       "      <td>0.0</td>\n",
       "      <td>0.000000</td>\n",
       "      <td>8.0</td>\n",
       "      <td>7.079646</td>\n",
       "    </tr>\n",
       "    <tr>\n",
       "      <th>8</th>\n",
       "      <td>9</td>\n",
       "      <td>1.0</td>\n",
       "      <td>1.666667</td>\n",
       "      <td>13.0</td>\n",
       "      <td>11.504425</td>\n",
       "    </tr>\n",
       "    <tr>\n",
       "      <th>9</th>\n",
       "      <td>10</td>\n",
       "      <td>6.0</td>\n",
       "      <td>10.000000</td>\n",
       "      <td>7.0</td>\n",
       "      <td>6.194690</td>\n",
       "    </tr>\n",
       "  </tbody>\n",
       "</table>\n",
       "</div>"
      ],
      "text/plain": [
       "    Q21(I)  Q3(count)_female  Q3(rel)_female  Q3(count)_male  Q3(rel)_male\n",
       "0        0               1.0        1.666667             0.0      0.000000\n",
       "1        1               1.0        1.666667             1.0      0.884956\n",
       "2        2               9.0       15.000000            10.0      8.849558\n",
       "3        3              16.0       26.666667            21.0     18.584071\n",
       "4        4              12.0       20.000000            21.0     18.584071\n",
       "5        5               6.0       10.000000             4.0      3.539823\n",
       "6        6               5.0        8.333333            19.0     16.814159\n",
       "7        7               3.0        5.000000             9.0      7.964602\n",
       "10       8               0.0        0.000000             8.0      7.079646\n",
       "8        9               1.0        1.666667            13.0     11.504425\n",
       "9       10               6.0       10.000000             7.0      6.194690"
      ]
     },
     "metadata": {},
     "output_type": "display_data"
    }
   ],
   "source": [
    "salary_female_df = DataFrame(salary_female)\n",
    "salary_male_df = DataFrame(salary_male)\n",
    "\n",
    "salary_female_df['Q3(rel)'] = (salary_female_df['Q3(count)'] / salary_female_df['Q3(count)'].sum()) * 100\n",
    "salary_male_df['Q3(rel)'] = (salary_male_df['Q3(count)'] / salary_male_df['Q3(count)'].sum()) * 100\n",
    "\n",
    "salary_sex_compared_df = pd.merge(salary_female_df, salary_male_df, on='Q21(I)', how='outer', suffixes=('_female', '_male'))\n",
    "salary_sex_compared_df.fillna(0, inplace=True)\n",
    "salary_sex_compared_df.sort_values(by=['Q21(I)'], inplace=True)\n",
    "salary_sex_compared_df.style.format({'Q3(rel)_female':'{:,.2f}%'.format})\n",
    "\n",
    "display(salary_sex_compared_df)"
   ]
  },
  {
   "cell_type": "code",
   "execution_count": 237,
   "metadata": {},
   "outputs": [
    {
     "data": {
      "text/html": [
       "<div>\n",
       "<style>\n",
       "    .dataframe thead tr:only-child th {\n",
       "        text-align: right;\n",
       "    }\n",
       "\n",
       "    .dataframe thead th {\n",
       "        text-align: left;\n",
       "    }\n",
       "\n",
       "    .dataframe tbody tr th {\n",
       "        vertical-align: top;\n",
       "    }\n",
       "</style>\n",
       "<table border=\"1\" class=\"dataframe\">\n",
       "  <thead>\n",
       "    <tr style=\"text-align: right;\">\n",
       "      <th></th>\n",
       "      <th>Q21(I)</th>\n",
       "      <th>Q3(rel)_female</th>\n",
       "      <th>Q3(rel)_male</th>\n",
       "    </tr>\n",
       "  </thead>\n",
       "  <tbody>\n",
       "    <tr>\n",
       "      <th>0</th>\n",
       "      <td>0</td>\n",
       "      <td>1.666667</td>\n",
       "      <td>0.000000</td>\n",
       "    </tr>\n",
       "    <tr>\n",
       "      <th>1</th>\n",
       "      <td>1</td>\n",
       "      <td>1.666667</td>\n",
       "      <td>0.884956</td>\n",
       "    </tr>\n",
       "    <tr>\n",
       "      <th>2</th>\n",
       "      <td>2</td>\n",
       "      <td>15.000000</td>\n",
       "      <td>8.849558</td>\n",
       "    </tr>\n",
       "    <tr>\n",
       "      <th>3</th>\n",
       "      <td>3</td>\n",
       "      <td>26.666667</td>\n",
       "      <td>18.584071</td>\n",
       "    </tr>\n",
       "    <tr>\n",
       "      <th>4</th>\n",
       "      <td>4</td>\n",
       "      <td>20.000000</td>\n",
       "      <td>18.584071</td>\n",
       "    </tr>\n",
       "    <tr>\n",
       "      <th>5</th>\n",
       "      <td>5</td>\n",
       "      <td>10.000000</td>\n",
       "      <td>3.539823</td>\n",
       "    </tr>\n",
       "    <tr>\n",
       "      <th>6</th>\n",
       "      <td>6</td>\n",
       "      <td>8.333333</td>\n",
       "      <td>16.814159</td>\n",
       "    </tr>\n",
       "    <tr>\n",
       "      <th>7</th>\n",
       "      <td>7</td>\n",
       "      <td>5.000000</td>\n",
       "      <td>7.964602</td>\n",
       "    </tr>\n",
       "    <tr>\n",
       "      <th>10</th>\n",
       "      <td>8</td>\n",
       "      <td>0.000000</td>\n",
       "      <td>7.079646</td>\n",
       "    </tr>\n",
       "    <tr>\n",
       "      <th>8</th>\n",
       "      <td>9</td>\n",
       "      <td>1.666667</td>\n",
       "      <td>11.504425</td>\n",
       "    </tr>\n",
       "    <tr>\n",
       "      <th>9</th>\n",
       "      <td>10</td>\n",
       "      <td>10.000000</td>\n",
       "      <td>6.194690</td>\n",
       "    </tr>\n",
       "  </tbody>\n",
       "</table>\n",
       "</div>"
      ],
      "text/plain": [
       "    Q21(I)  Q3(rel)_female  Q3(rel)_male\n",
       "0        0        1.666667      0.000000\n",
       "1        1        1.666667      0.884956\n",
       "2        2       15.000000      8.849558\n",
       "3        3       26.666667     18.584071\n",
       "4        4       20.000000     18.584071\n",
       "5        5       10.000000      3.539823\n",
       "6        6        8.333333     16.814159\n",
       "7        7        5.000000      7.964602\n",
       "10       8        0.000000      7.079646\n",
       "8        9        1.666667     11.504425\n",
       "9       10       10.000000      6.194690"
      ]
     },
     "metadata": {},
     "output_type": "display_data"
    },
    {
     "data": {
      "text/plain": [
       "<matplotlib.axes._subplots.AxesSubplot at 0x11ad4b8d0>"
      ]
     },
     "execution_count": 237,
     "metadata": {},
     "output_type": "execute_result"
    },
    {
     "data": {
      "image/png": "[encoded data removed]",
      "text/plain": [
       "<matplotlib.figure.Figure at 0x11ad36908>"
      ]
     },
     "metadata": {},
     "output_type": "display_data"
    }
   ],
   "source": [
    "display(salary_sex_compared_df[['Q21(I)', 'Q3(rel)_female', 'Q3(rel)_male']])\n",
    "salary_sex_compared_df[['Q3(rel)_male', 'Q3(rel)_female']].plot(kind='bar', colormap='cool')"
   ]
  },
  {
   "cell_type": "code",
   "execution_count": 240,
   "metadata": {},
   "outputs": [
    {
     "data": {
      "text/plain": [
       "WilcoxonResult(statistic=33.0, pvalue=1.0)"
      ]
     },
     "execution_count": 240,
     "metadata": {},
     "output_type": "execute_result"
    }
   ],
   "source": [
    "sp.stats.wilcoxon(salary_sex_compared_df['Q3(rel)_female'], salary_sex_compared_df['Q3(rel)_male'])"
   ]
  },
  {
   "cell_type": "code",
   "execution_count": null,
   "metadata": {
    "collapsed": true
   },
   "outputs": [],
   "source": []
  }
 ],
 "metadata": {
  "kernelspec": {
   "display_name": "Python 3",
   "language": "python",
   "name": "python3"
  },
  "language_info": {
   "codemirror_mode": {
    "name": "ipython",
    "version": 3
   },
   "file_extension": ".py",
   "mimetype": "text/x-python",
   "name": "python",
   "nbconvert_exporter": "python",
   "pygments_lexer": "ipython3",
   "version": "3.6.3"
  }
 },
 "nbformat": 4,
 "nbformat_minor": 2
}
