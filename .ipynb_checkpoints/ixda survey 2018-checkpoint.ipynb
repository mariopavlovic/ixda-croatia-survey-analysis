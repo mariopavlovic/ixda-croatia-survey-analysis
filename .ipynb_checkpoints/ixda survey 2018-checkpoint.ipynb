{
 "cells": [
  {
   "cell_type": "code",
   "execution_count": 196,
   "metadata": {
    "collapsed": true
   },
   "outputs": [],
   "source": [
    "# Imports\n",
    "import numpy as np\n",
    "import pandas as pd\n",
    "from pandas import Series, DataFrame\n",
    "\n",
    "import matplotlib.pyplot as plt\n",
    "%matplotlib inline "
   ]
  },
  {
   "cell_type": "code",
   "execution_count": 3,
   "metadata": {
    "collapsed": true
   },
   "outputs": [],
   "source": [
    "# Get data\n",
    "df = pd.read_csv(\"data.csv\")"
   ]
  },
  {
   "cell_type": "code",
   "execution_count": 4,
   "metadata": {
    "collapsed": true
   },
   "outputs": [],
   "source": [
    "# Display data helper function\n",
    "def display_data(data):\n",
    "    with pd.option_context('display.max_rows', None, 'display.max_columns', None):\n",
    "        display(data)"
   ]
  },
  {
   "cell_type": "code",
   "execution_count": 5,
   "metadata": {},
   "outputs": [
    {
     "data": {
      "text/html": [
       "<div>\n",
       "<style>\n",
       "    .dataframe thead tr:only-child th {\n",
       "        text-align: right;\n",
       "    }\n",
       "\n",
       "    .dataframe thead th {\n",
       "        text-align: left;\n",
       "    }\n",
       "\n",
       "    .dataframe tbody tr th {\n",
       "        vertical-align: top;\n",
       "    }\n",
       "</style>\n",
       "<table border=\"1\" class=\"dataframe\">\n",
       "  <thead>\n",
       "    <tr style=\"text-align: right;\">\n",
       "      <th></th>\n",
       "      <th>Timestamp</th>\n",
       "      <th>Q1</th>\n",
       "      <th>Q2</th>\n",
       "      <th>Q3</th>\n",
       "      <th>Q4</th>\n",
       "      <th>Q5</th>\n",
       "      <th>Q6</th>\n",
       "      <th>Q7</th>\n",
       "      <th>Q8</th>\n",
       "      <th>Q9</th>\n",
       "      <th>Q10</th>\n",
       "      <th>Q11</th>\n",
       "      <th>Q12</th>\n",
       "      <th>Q13</th>\n",
       "      <th>Q14</th>\n",
       "      <th>Q15</th>\n",
       "      <th>Q16</th>\n",
       "      <th>Q17-1</th>\n",
       "      <th>Q17-2</th>\n",
       "      <th>Q17-3</th>\n",
       "      <th>Q17-4</th>\n",
       "      <th>Q18</th>\n",
       "      <th>Q19-1</th>\n",
       "      <th>Q19-2</th>\n",
       "      <th>Q19-3</th>\n",
       "      <th>Q19-4</th>\n",
       "      <th>Q19-5</th>\n",
       "      <th>Q19-6</th>\n",
       "      <th>Q19-7</th>\n",
       "      <th>Q19-8</th>\n",
       "      <th>Q19-9</th>\n",
       "      <th>Q20</th>\n",
       "      <th>Q21</th>\n",
       "      <th>Q22</th>\n",
       "      <th>Q23</th>\n",
       "      <th>Q24</th>\n",
       "      <th>Q25</th>\n",
       "      <th>Q26</th>\n",
       "      <th>Q27</th>\n",
       "      <th>Q28-1</th>\n",
       "      <th>Q28-2</th>\n",
       "      <th>Q28-3</th>\n",
       "      <th>Q28-4</th>\n",
       "      <th>Q28-5</th>\n",
       "      <th>Q28-6</th>\n",
       "      <th>Q28-7</th>\n",
       "      <th>Q28-8</th>\n",
       "      <th>Q28-9</th>\n",
       "      <th>Q28-10</th>\n",
       "      <th>Q28-11</th>\n",
       "      <th>Q29</th>\n",
       "      <th>Q30</th>\n",
       "      <th>Q31</th>\n",
       "      <th>Q32</th>\n",
       "      <th>Q33</th>\n",
       "    </tr>\n",
       "  </thead>\n",
       "  <tbody>\n",
       "    <tr>\n",
       "      <th>1</th>\n",
       "      <td>2018/06/19 9:03:23 AM GMT+2</td>\n",
       "      <td>2 - 3 godine</td>\n",
       "      <td>UX/UI dizajner</td>\n",
       "      <td>Ženski</td>\n",
       "      <td>26-30</td>\n",
       "      <td>GRAD ZAGREB</td>\n",
       "      <td>GRAD ZAGREB</td>\n",
       "      <td>GRF</td>\n",
       "      <td>UX/UI dizajner</td>\n",
       "      <td>4</td>\n",
       "      <td>2-5 godina</td>\n",
       "      <td>Medium Dizajner</td>\n",
       "      <td>Dizajn studio</td>\n",
       "      <td>2-10</td>\n",
       "      <td>Ima jedan dizajn tim</td>\n",
       "      <td>2-5</td>\n",
       "      <td>Mentoriranje</td>\n",
       "      <td>50%</td>\n",
       "      <td>0</td>\n",
       "      <td>50%</td>\n",
       "      <td>0</td>\n",
       "      <td>4 - 8 sata / tjedno</td>\n",
       "      <td>4</td>\n",
       "      <td>4</td>\n",
       "      <td>5</td>\n",
       "      <td>5</td>\n",
       "      <td>5</td>\n",
       "      <td>3</td>\n",
       "      <td>2</td>\n",
       "      <td>2</td>\n",
       "      <td>4</td>\n",
       "      <td>5</td>\n",
       "      <td>5000kn - 6900kn</td>\n",
       "      <td>4</td>\n",
       "      <td>Najčešće u uredu i povremeno remotely</td>\n",
       "      <td>Educiram se samostalno doma;Edukacija je prisu...</td>\n",
       "      <td>UI dizajn;UX dizajn;Programeri</td>\n",
       "      <td>Research;Analiza konkurencije;Persone;Journey ...</td>\n",
       "      <td>Pomoću analitike</td>\n",
       "      <td>Obavezno uključiti</td>\n",
       "      <td>Obavezno uključiti</td>\n",
       "      <td>Obavezno uključiti</td>\n",
       "      <td>Nisu potrebni</td>\n",
       "      <td>Nisu potrebni</td>\n",
       "      <td>Obavezno uključiti</td>\n",
       "      <td>Nisu potrebni</td>\n",
       "      <td>Obavezno uključiti</td>\n",
       "      <td>Nisu potrebni</td>\n",
       "      <td>Nisu potrebni</td>\n",
       "      <td>Nisu potrebni</td>\n",
       "      <td>NaN</td>\n",
       "      <td>NaN</td>\n",
       "      <td>NaN</td>\n",
       "      <td>Prilagodljivost, empatija, analitičnost</td>\n",
       "      <td>Machine learning</td>\n",
       "    </tr>\n",
       "  </tbody>\n",
       "</table>\n",
       "</div>"
      ],
      "text/plain": [
       "                     Timestamp            Q1              Q2      Q3     Q4  \\\n",
       "1  2018/06/19 9:03:23 AM GMT+2  2 - 3 godine  UX/UI dizajner  Ženski  26-30   \n",
       "\n",
       "            Q5           Q6   Q7              Q8  Q9         Q10  \\\n",
       "1  GRAD ZAGREB  GRAD ZAGREB  GRF  UX/UI dizajner   4  2-5 godina   \n",
       "\n",
       "               Q11            Q12   Q13                   Q14  Q15  \\\n",
       "1  Medium Dizajner  Dizajn studio  2-10  Ima jedan dizajn tim  2-5   \n",
       "\n",
       "            Q16 Q17-1 Q17-2 Q17-3 Q17-4                  Q18  Q19-1  Q19-2  \\\n",
       "1  Mentoriranje   50%     0   50%     0  4 - 8 sata / tjedno      4      4   \n",
       "\n",
       "   Q19-3  Q19-4  Q19-5  Q19-6  Q19-7  Q19-8  Q19-9  Q20              Q21  Q22  \\\n",
       "1      5      5      5      3      2      2      4    5  5000kn - 6900kn    4   \n",
       "\n",
       "                                     Q23  \\\n",
       "1  Najčešće u uredu i povremeno remotely   \n",
       "\n",
       "                                                 Q24  \\\n",
       "1  Educiram se samostalno doma;Edukacija je prisu...   \n",
       "\n",
       "                              Q25  \\\n",
       "1  UI dizajn;UX dizajn;Programeri   \n",
       "\n",
       "                                                 Q26               Q27  \\\n",
       "1  Research;Analiza konkurencije;Persone;Journey ...  Pomoću analitike   \n",
       "\n",
       "                Q28-1               Q28-2               Q28-3          Q28-4  \\\n",
       "1  Obavezno uključiti  Obavezno uključiti  Obavezno uključiti  Nisu potrebni   \n",
       "\n",
       "           Q28-5               Q28-6          Q28-7               Q28-8  \\\n",
       "1  Nisu potrebni  Obavezno uključiti  Nisu potrebni  Obavezno uključiti   \n",
       "\n",
       "           Q28-9         Q28-10         Q28-11  Q29  Q30  Q31  \\\n",
       "1  Nisu potrebni  Nisu potrebni  Nisu potrebni  NaN  NaN  NaN   \n",
       "\n",
       "                                       Q32               Q33  \n",
       "1  Prilagodljivost, empatija, analitičnost  Machine learning  "
      ]
     },
     "metadata": {},
     "output_type": "display_data"
    }
   ],
   "source": [
    "# Cleanup - Mark questions as 'QX' for easier future reference\n",
    "columns = df.columns.tolist()\n",
    "answer = 0\n",
    "question = 0\n",
    "\n",
    "for i in range(1, len(columns)):\n",
    "    # Grid questions have option in '[]'\n",
    "    if (columns[i].endswith(']')):\n",
    "        # Check if this is first answer, if so this is a new question\n",
    "        if (answer == 0):\n",
    "            question = question + 1\n",
    "        answer = answer + 1\n",
    "        columns[i] = 'Q' + str(question) + '-' + str(answer)\n",
    "    else:\n",
    "        question = question + 1\n",
    "        answer = 0    \n",
    "        columns[i] = 'Q' + str(question)\n",
    "  \n",
    "df.columns = columns\n",
    "display_data(df[1:2])"
   ]
  },
  {
   "cell_type": "code",
   "execution_count": 72,
   "metadata": {},
   "outputs": [],
   "source": [
    "# Helper columns\n",
    "df['I-Q21'] = df['Q21'].replace({'Trenutno nisam zaposlen':0, 'Manje od 2800kn':1, '2800kn - 4900kn':2, '5000kn - 6900kn':3, '7000kn - 8900kn':4, '9000kn - 9900kn':5, '10000kn - 12900kn':6, '13000kn - 15900kn':7, '16000kn - 20000kn':8, '20000kn i više':9, 'Nisam zaposlen ali freelanceam':10})"
   ]
  },
  {
   "cell_type": "markdown",
   "metadata": {},
   "source": [
    "# Segmentation"
   ]
  },
  {
   "cell_type": "markdown",
   "metadata": {},
   "source": [
    "## By Sex"
   ]
  },
  {
   "cell_type": "code",
   "execution_count": 316,
   "metadata": {},
   "outputs": [
    {
     "name": "stdout",
     "output_type": "stream",
     "text": [
      "Survey completed by  46  females,  79  males, and  2  undefined\n"
     ]
    }
   ],
   "source": [
    "# Segments\n",
    "# By Sex\n",
    "female = df[df['Q3']=='Ženski']\n",
    "male = df[df['Q3']=='Muški']\n",
    "\n",
    "num_female = len(female)\n",
    "num_male = len(male)\n",
    "num_undefined = len(df) - num_female - num_male\n",
    "\n",
    "print('Survey completed by ', num_females,' females, ', num_males, ' males, and ', num_undefined, ' undefined')"
   ]
  },
  {
   "cell_type": "code",
   "execution_count": 249,
   "metadata": {},
   "outputs": [
    {
     "data": {
      "text/plain": [
       "I-Q21  Q21                             Q3          \n",
       "0      Trenutno nisam zaposlen         Ženski           1\n",
       "1      Manje od 2800kn                 N/A OR OTHER     1\n",
       "                                       Ženski           1\n",
       "2      2800kn - 4900kn                 Muški            6\n",
       "                                       Ženski           8\n",
       "3      5000kn - 6900kn                 Muški           18\n",
       "                                       Ženski          12\n",
       "4      7000kn - 8900kn                 Muški           14\n",
       "                                       Ženski           6\n",
       "5      9000kn - 9900kn                 Muški            4\n",
       "                                       Ženski           6\n",
       "6      10000kn - 12900kn               Muški           13\n",
       "                                       Ženski           3\n",
       "7      13000kn - 15900kn               Muški            8\n",
       "                                       Ženski           3\n",
       "8      16000kn - 20000kn               Muški            5\n",
       "9      20000kn i više                  Muški            9\n",
       "                                       N/A OR OTHER     1\n",
       "10     Nisam zaposlen ali freelanceam  Muški            2\n",
       "                                       Ženski           6\n",
       "Name: Q1, dtype: int64"
      ]
     },
     "metadata": {},
     "output_type": "display_data"
    },
    {
     "data": {
      "text/plain": [
       "<matplotlib.axes._subplots.AxesSubplot at 0x11a304f98>"
      ]
     },
     "execution_count": 249,
     "metadata": {},
     "output_type": "execute_result"
    },
    {
     "data": {
      "image/png": "[encoded data removed]",
      "text/plain": [
       "<matplotlib.figure.Figure at 0x120f19c18>"
      ]
     },
     "metadata": {},
     "output_type": "display_data"
    }
   ],
   "source": [
    "# Salary\n",
    "# General\n",
    "salary_general = df.groupby(['I-Q21', 'Q21']).count().iloc[:,1]\n",
    "salary_general_with_sex = df.groupby(['I-Q21', 'Q21', 'Q3']).count().iloc[:,1]\n",
    "display(salary_general_with_sex)\n",
    "salary_general.plot(kind='bar', label='Q21')"
   ]
  },
  {
   "cell_type": "code",
   "execution_count": 270,
   "metadata": {},
   "outputs": [
    {
     "data": {
      "text/plain": [
       "<matplotlib.axes._subplots.AxesSubplot at 0x13320ccf8>"
      ]
     },
     "execution_count": 270,
     "metadata": {},
     "output_type": "execute_result"
    },
    {
     "data": {
      "image/png": "[encoded data removed]",
      "text/plain": [
       "<matplotlib.figure.Figure at 0x132f110f0>"
      ]
     },
     "metadata": {},
     "output_type": "display_data"
    }
   ],
   "source": [
    "# By Sex\n",
    "fig, axs = plt.subplots(1, 2)\n",
    "salary_female = female.groupby(['I-Q21', 'Q3']).count().iloc[:,1]\n",
    "salary_male = male.groupby(['I-Q21', 'Q3']).count().iloc[:,1]\n",
    "\n",
    "salary_female.plot(ax=axs[0], kind='bar', colormap='spring')\n",
    "salary_male.plot(ax=axs[1], kind='bar')"
   ]
  },
  {
   "cell_type": "code",
   "execution_count": 268,
   "metadata": {},
   "outputs": [],
   "source": [
    "salary_female_df = DataFrame(salary_female)\n",
    "salary_male_df = DataFrame(salary_male)\n",
    "\n",
    "salary_female_df['R-Q3'] = salary_female_df['Q1'] / salary_female_df['Q1'].sum() * 100\n",
    "salary_male_df['R-Q3'] = salary_male_df['Q1'] / salary_male_df['Q1'].sum() * 100\n",
    "\n",
    "salary_comparisson_df = DataFrame(salary_general_with_sex)\n",
    "salary_comparisson_df['R-Q3'] = salary_comparisson_df['Q1'] / salary_comparisson_df['Q1'].sum() * 100"
   ]
  },
  {
   "cell_type": "code",
   "execution_count": null,
   "metadata": {
    "collapsed": true
   },
   "outputs": [],
   "source": [
    "# Prebrojati ispisati i izbaciti van freelancere\n",
    "# Prebrojati ispisati i izbaciti van ni musko ni zensko\n",
    "# Usporediti distribuciju placa musko/zensko"
   ]
  }
 ],
 "metadata": {
  "kernelspec": {
   "display_name": "Python 3",
   "language": "python",
   "name": "python3"
  },
  "language_info": {
   "codemirror_mode": {
    "name": "ipython",
    "version": 3
   },
   "file_extension": ".py",
   "mimetype": "text/x-python",
   "name": "python",
   "nbconvert_exporter": "python",
   "pygments_lexer": "ipython3",
   "version": "3.6.3"
  }
 },
 "nbformat": 4,
 "nbformat_minor": 2
}
